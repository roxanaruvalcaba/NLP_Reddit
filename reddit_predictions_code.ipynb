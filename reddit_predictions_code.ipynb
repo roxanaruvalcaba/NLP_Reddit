{
 "cells": [
  {
   "cell_type": "markdown",
   "metadata": {},
   "source": [
    "# Project 3: Web APIs & NLP"
   ]
  },
  {
   "cell_type": "markdown",
   "metadata": {},
   "source": [
    "## Problem Statement"
   ]
  },
  {
   "cell_type": "markdown",
   "metadata": {},
   "source": [
    "Many times, advertisers want to target their marketing to customers that will purchase their product. That is why, if someone is selling a book, they would be interested in showing a book ad to someone who is already talking about books. The data science problem answered in this project is whether or not subreddit titles and self text are predictive of the subreddit \"movies\" and \"books\" topics. To approach this problem, I leveraged the Pushshift API and NLP to train binary classifiers."
   ]
  },
  {
   "cell_type": "markdown",
   "metadata": {},
   "source": [
    "## Executive Summary"
   ]
  },
  {
   "cell_type": "markdown",
   "metadata": {},
   "source": [
    "Both the Logistic Regression and Multinomial Naive Bayes models provided good outputs. Though the model shows high variance, as can be seen from the higher train than test score, the model is able to predict whether a document is coming from a Movies subreddit or a Books subreddit with good accuracy. Limiting the number of features or adding regulation would reduce variance, but also decrease the accuracy of the model."
   ]
  },
  {
   "cell_type": "markdown",
   "metadata": {},
   "source": [
    "## Contents"
   ]
  },
  {
   "cell_type": "markdown",
   "metadata": {},
   "source": [
    "- [Data Gathering](#Data-Gathering)\n",
    "- [EDA](#EDA)\n",
    "- [Models](#Models)\n",
    "- [Results](#Results)\n",
    "- [Conclusion](#Conclusion)"
   ]
  },
  {
   "cell_type": "markdown",
   "metadata": {},
   "source": [
    "# Data Gathering"
   ]
  },
  {
   "cell_type": "markdown",
   "metadata": {},
   "source": [
    "Import libraries"
   ]
  },
  {
   "cell_type": "code",
   "execution_count": 238,
   "metadata": {},
   "outputs": [],
   "source": [
    "import pandas as pd\n",
    "import datetime as dt\n",
    "import time\n",
    "import requests\n",
    "import numpy as np\n",
    "from sklearn.model_selection import train_test_split, GridSearchCV\n",
    "from sklearn.pipeline import Pipeline\n",
    "from sklearn.linear_model import LogisticRegression\n",
    "from sklearn.feature_extraction.text import CountVectorizer, TfidfVectorizer, TfidfTransformer\n",
    "from sklearn.naive_bayes import GaussianNB, BernoulliNB, MultinomialNB\n",
    "import matplotlib.pyplot as plt\n",
    "from sklearn.tree import DecisionTreeClassifier"
   ]
  },
  {
   "cell_type": "markdown",
   "metadata": {},
   "source": [
    "Using Pushshift API, The pushshift.io Reddit API was designed to help provide enhanced functionality and search capabilities for searching Reddit comments and submissions"
   ]
  },
  {
   "cell_type": "code",
   "execution_count": 241,
   "metadata": {},
   "outputs": [],
   "source": [
    "\n",
    "def query_pushshift(subreddit, kind = 'submission', day_window = 7, n = 5):\n",
    "    SUBFIELDS = ['title', 'selftext', 'subreddit', 'created_utc', 'author', 'num_comments', 'score', 'is_self']\n",
    "    \n",
    "    # BASE_URL & Parameters\n",
    "    BASE_URL = f\"https://api.pushshift.io/reddit/search/{kind}\" # also known as the \"API endpoint\" \n",
    "    size = 500\n",
    "      \n",
    "    # instantiate empty list for temp storage\n",
    "    posts = []\n",
    "    \n",
    "    # implement for loop with `time.sleep(2)`\n",
    "    for i in range(1, n + 1):\n",
    "        response = requests.get(BASE_URL,\n",
    "                                params = {\n",
    "                                    'subreddit': subreddit,\n",
    "                                    'size': size,\n",
    "                                    'after': f'{day_window*i}d'\n",
    "                                })\n",
    "        print(f'Getting data from subreddit {subreddit} after {day_window*i} days')\n",
    "        assert response.status_code == 200, 'Check url'\n",
    "        json = response.json()['data']\n",
    "        df = pd.DataFrame.from_dict(json)\n",
    "        posts.append(df)\n",
    "        time.sleep(2)\n",
    "    \n",
    "    # pd.concat storage list\n",
    "    full = pd.concat(posts, sort=False)\n",
    "    \n",
    "    # if submission\n",
    "    if kind == \"submission\":\n",
    "        # select desired columns\n",
    "        full = full[SUBFIELDS]\n",
    "        # drop duplicates\n",
    "        full.drop_duplicates(inplace = True)\n",
    "        # select `is_self` == True\n",
    "        full = full.loc[full['is_self'] == True]\n",
    "\n",
    "    # create `timestamp` column\n",
    "    full['timestamp'] = full[\"created_utc\"].map(dt.date.fromtimestamp)\n",
    "    \n",
    "    print(\"Query Complete!\")    \n",
    "    return full "
   ]
  },
  {
   "cell_type": "markdown",
   "metadata": {},
   "source": [
    "Getting results for movies and books"
   ]
  },
  {
   "cell_type": "code",
   "execution_count": 247,
   "metadata": {},
   "outputs": [
    {
     "name": "stdout",
     "output_type": "stream",
     "text": [
      "Getting data from subreddit movies after 7 days\n",
      "Getting data from subreddit movies after 14 days\n",
      "Getting data from subreddit movies after 21 days\n",
      "Getting data from subreddit movies after 28 days\n",
      "Getting data from subreddit movies after 35 days\n",
      "Query Complete!\n"
     ]
    }
   ],
   "source": [
    "results_movies = query_pushshift(\"movies\")"
   ]
  },
  {
   "cell_type": "code",
   "execution_count": 243,
   "metadata": {
    "scrolled": true
   },
   "outputs": [
    {
     "name": "stdout",
     "output_type": "stream",
     "text": [
      "Getting data from subreddit books after 7 days\n",
      "Getting data from subreddit books after 14 days\n",
      "Getting data from subreddit books after 21 days\n",
      "Getting data from subreddit books after 28 days\n",
      "Getting data from subreddit books after 35 days\n",
      "Query Complete!\n"
     ]
    }
   ],
   "source": [
    "results_books = query_pushshift(\"books\")"
   ]
  },
  {
   "cell_type": "markdown",
   "metadata": {},
   "source": [
    "# EDA"
   ]
  },
  {
   "cell_type": "markdown",
   "metadata": {},
   "source": [
    "Checking data shape, null values, graphing, and more!"
   ]
  },
  {
   "cell_type": "code",
   "execution_count": 248,
   "metadata": {},
   "outputs": [
    {
     "data": {
      "text/plain": [
       "(936, 9)"
      ]
     },
     "execution_count": 248,
     "metadata": {},
     "output_type": "execute_result"
    }
   ],
   "source": [
    "# movie shape\n",
    "movies = results_movies.shape\n",
    "movies"
   ]
  },
  {
   "cell_type": "code",
   "execution_count": 249,
   "metadata": {},
   "outputs": [
    {
     "data": {
      "text/plain": [
       "(2041, 9)"
      ]
     },
     "execution_count": 249,
     "metadata": {},
     "output_type": "execute_result"
    }
   ],
   "source": [
    "# books shape\n",
    "books = results_books.shape\n",
    "books"
   ]
  },
  {
   "cell_type": "code",
   "execution_count": 250,
   "metadata": {},
   "outputs": [
    {
     "data": {
      "text/plain": [
       "0.03311965811965812"
      ]
     },
     "execution_count": 250,
     "metadata": {},
     "output_type": "execute_result"
    }
   ],
   "source": [
    "# null values in movies data\n",
    "results_movies['selftext'].isnull().sum()/movies[0]"
   ]
  },
  {
   "cell_type": "code",
   "execution_count": 251,
   "metadata": {},
   "outputs": [
    {
     "data": {
      "text/plain": [
       "0.057814796668299855"
      ]
     },
     "execution_count": 251,
     "metadata": {},
     "output_type": "execute_result"
    }
   ],
   "source": [
    "# null values in books data\n",
    "results_books['selftext'].isnull().sum()/books[0]"
   ]
  },
  {
   "cell_type": "code",
   "execution_count": 252,
   "metadata": {},
   "outputs": [],
   "source": [
    "# remove null values\n",
    "results_movies = results_movies[results_movies['selftext'].notnull()]\n",
    "results_books = results_books[results_books['selftext'].notnull()]"
   ]
  },
  {
   "cell_type": "code",
   "execution_count": 253,
   "metadata": {},
   "outputs": [
    {
     "data": {
      "text/plain": [
       "(905, 9)"
      ]
     },
     "execution_count": 253,
     "metadata": {},
     "output_type": "execute_result"
    }
   ],
   "source": [
    "# new movie shape\n",
    "results_movies.shape"
   ]
  },
  {
   "cell_type": "code",
   "execution_count": 254,
   "metadata": {},
   "outputs": [
    {
     "data": {
      "text/plain": [
       "(1923, 9)"
      ]
     },
     "execution_count": 254,
     "metadata": {},
     "output_type": "execute_result"
    }
   ],
   "source": [
    "# new movie shape\n",
    "results_books.shape"
   ]
  },
  {
   "cell_type": "code",
   "execution_count": 255,
   "metadata": {
    "scrolled": true
   },
   "outputs": [
    {
     "data": {
      "image/png": "[encoded data removed]",
      "text/plain": [
       "<Figure size 432x288 with 1 Axes>"
      ]
     },
     "metadata": {
      "needs_background": "light"
     },
     "output_type": "display_data"
    }
   ],
   "source": [
    "# plot number of documents for each category\n",
    "plt.bar(['movies', 'books'], [movies[0], books[0]])\n",
    "plt.xlabel(\"Subreddits\", fontsize= 15)\n",
    "plt.ylabel(\"Documents\", fontsize= 15)\n",
    "plt.title(\"Data Gathered from Subreddits\", fontsize=15)\n",
    "plt.xticks(fontsize= 15)\n",
    "plt.yticks(fontsize= 15);"
   ]
  },
  {
   "cell_type": "code",
   "execution_count": 440,
   "metadata": {},
   "outputs": [
    {
     "data": {
      "text/plain": [
       "(923, 9)"
      ]
     },
     "execution_count": 440,
     "metadata": {},
     "output_type": "execute_result"
    }
   ],
   "source": [
    "# scaling down data to have a balanced dataset\n",
    "results_books_scaled = results_books.copy().sample(frac = 0.48)\n",
    "results_books_scaled.shape"
   ]
  },
  {
   "cell_type": "code",
   "execution_count": 441,
   "metadata": {},
   "outputs": [],
   "source": [
    "# concatenating data from Movies and Books\n",
    "frames = [results_movies, results_books_scaled]\n",
    "df = pd.concat(frames)"
   ]
  },
  {
   "cell_type": "code",
   "execution_count": 377,
   "metadata": {},
   "outputs": [],
   "source": [
    "# reset index\n",
    "df.reset_index(drop = True, inplace = True) "
   ]
  },
  {
   "cell_type": "code",
   "execution_count": 378,
   "metadata": {},
   "outputs": [
    {
     "data": {
      "text/plain": [
       "books     923\n",
       "movies    905\n",
       "Name: subreddit, dtype: int64"
      ]
     },
     "execution_count": 378,
     "metadata": {},
     "output_type": "execute_result"
    }
   ],
   "source": [
    "# checking value counts\n",
    "df['subreddit'].value_counts()"
   ]
  },
  {
   "cell_type": "code",
   "execution_count": 379,
   "metadata": {},
   "outputs": [
    {
     "data": {
      "text/plain": [
       "books     0.504923\n",
       "movies    0.495077\n",
       "Name: subreddit, dtype: float64"
      ]
     },
     "execution_count": 379,
     "metadata": {},
     "output_type": "execute_result"
    }
   ],
   "source": [
    "# checking baseline model\n",
    "df['subreddit'].value_counts(normalize = True)"
   ]
  },
  {
   "cell_type": "code",
   "execution_count": 380,
   "metadata": {},
   "outputs": [],
   "source": [
    "# changing subreddit so that books = 1 and movies = 0\n",
    "df['subreddit'] = df['subreddit'].map({'books': 1, 'movies': 0})"
   ]
  },
  {
   "cell_type": "code",
   "execution_count": 381,
   "metadata": {
    "scrolled": true
   },
   "outputs": [
    {
     "data": {
      "text/plain": [
       "1    923\n",
       "0    905\n",
       "Name: subreddit, dtype: int64"
      ]
     },
     "execution_count": 381,
     "metadata": {},
     "output_type": "execute_result"
    }
   ],
   "source": [
    "# checking counts didn't change\n",
    "df['subreddit'].value_counts()"
   ]
  },
  {
   "cell_type": "code",
   "execution_count": 313,
   "metadata": {},
   "outputs": [
    {
     "data": {
      "text/html": [
       "<div>\n",
       "<style scoped>\n",
       "    .dataframe tbody tr th:only-of-type {\n",
       "        vertical-align: middle;\n",
       "    }\n",
       "\n",
       "    .dataframe tbody tr th {\n",
       "        vertical-align: top;\n",
       "    }\n",
       "\n",
       "    .dataframe thead th {\n",
       "        text-align: right;\n",
       "    }\n",
       "</style>\n",
       "<table border=\"1\" class=\"dataframe\">\n",
       "  <thead>\n",
       "    <tr style=\"text-align: right;\">\n",
       "      <th></th>\n",
       "      <th>title</th>\n",
       "      <th>selftext</th>\n",
       "      <th>subreddit</th>\n",
       "      <th>created_utc</th>\n",
       "      <th>author</th>\n",
       "      <th>num_comments</th>\n",
       "      <th>score</th>\n",
       "      <th>is_self</th>\n",
       "      <th>timestamp</th>\n",
       "    </tr>\n",
       "  </thead>\n",
       "  <tbody>\n",
       "    <tr>\n",
       "      <th>0</th>\n",
       "      <td>Someone know the movie?</td>\n",
       "      <td>[removed]</td>\n",
       "      <td>0</td>\n",
       "      <td>1586513050</td>\n",
       "      <td>snwcre</td>\n",
       "      <td>0</td>\n",
       "      <td>1</td>\n",
       "      <td>True</td>\n",
       "      <td>2020-04-10</td>\n",
       "    </tr>\n",
       "    <tr>\n",
       "      <th>1</th>\n",
       "      <td>Have you read any disturbing book(s) that the ...</td>\n",
       "      <td>[removed]</td>\n",
       "      <td>1</td>\n",
       "      <td>1585943429</td>\n",
       "      <td>vecinadeblog</td>\n",
       "      <td>2</td>\n",
       "      <td>1</td>\n",
       "      <td>True</td>\n",
       "      <td>2020-04-03</td>\n",
       "    </tr>\n",
       "    <tr>\n",
       "      <th>2</th>\n",
       "      <td>Do You Toss Book-Covers?</td>\n",
       "      <td>[removed]</td>\n",
       "      <td>1</td>\n",
       "      <td>1586021945</td>\n",
       "      <td>ShockwaveSkywarp</td>\n",
       "      <td>1</td>\n",
       "      <td>1</td>\n",
       "      <td>True</td>\n",
       "      <td>2020-04-04</td>\n",
       "    </tr>\n",
       "    <tr>\n",
       "      <th>3</th>\n",
       "      <td>Staircase remodel with book titles</td>\n",
       "      <td>[removed]</td>\n",
       "      <td>1</td>\n",
       "      <td>1584825797</td>\n",
       "      <td>swest211</td>\n",
       "      <td>3</td>\n",
       "      <td>2</td>\n",
       "      <td>True</td>\n",
       "      <td>2020-03-21</td>\n",
       "    </tr>\n",
       "    <tr>\n",
       "      <th>4</th>\n",
       "      <td>Which book was the very definition of a page-t...</td>\n",
       "      <td>[removed]</td>\n",
       "      <td>1</td>\n",
       "      <td>1587096529</td>\n",
       "      <td>willowander</td>\n",
       "      <td>1</td>\n",
       "      <td>1</td>\n",
       "      <td>True</td>\n",
       "      <td>2020-04-16</td>\n",
       "    </tr>\n",
       "  </tbody>\n",
       "</table>\n",
       "</div>"
      ],
      "text/plain": [
       "                                               title   selftext  subreddit  \\\n",
       "0                            Someone know the movie?  [removed]          0   \n",
       "1  Have you read any disturbing book(s) that the ...  [removed]          1   \n",
       "2                           Do You Toss Book-Covers?  [removed]          1   \n",
       "3                 Staircase remodel with book titles  [removed]          1   \n",
       "4  Which book was the very definition of a page-t...  [removed]          1   \n",
       "\n",
       "   created_utc            author  num_comments  score  is_self   timestamp  \n",
       "0   1586513050            snwcre             0      1     True  2020-04-10  \n",
       "1   1585943429      vecinadeblog             2      1     True  2020-04-03  \n",
       "2   1586021945  ShockwaveSkywarp             1      1     True  2020-04-04  \n",
       "3   1584825797          swest211             3      2     True  2020-03-21  \n",
       "4   1587096529       willowander             1      1     True  2020-04-16  "
      ]
     },
     "execution_count": 313,
     "metadata": {},
     "output_type": "execute_result"
    }
   ],
   "source": [
    "# displaying data, notice both title and selftext contain text\n",
    "df.head()"
   ]
  },
  {
   "cell_type": "code",
   "execution_count": 302,
   "metadata": {},
   "outputs": [],
   "source": [
    "# this function will help visualize the top words with highest frequency\n",
    "def top_words(corpus, ngram, stop_w):\n",
    "\n",
    "   # https://medium.com/@cristhianboujon/how-to-list-the-most-common-words-from-text-corpus-using-scikit-learn-dad4d0cab41d\n",
    "    vect = CountVectorizer (ngram_range = ngram , stop_words = stop_w)\n",
    "    vec = vect.fit(corpus)\n",
    "    bag_of_words = vec.transform(corpus)\n",
    "    sum_words = bag_of_words.sum(axis=0)\n",
    "    words_freq = [[word, sum_words[0, idx]] for word, idx in vec.vocabulary_.items()]\n",
    "    words_freq =sorted(words_freq, key = lambda x: x[1], reverse=True)\n",
    "    \n",
    "    words = [word for word, count in words_freq]\n",
    "    count = [count for word, count in words_freq]\n",
    "    \n",
    "    plt.figure(figsize=(9, 9))\n",
    "    plt.barh(words[:20], count[:20])\n",
    "    plt.xlabel(\"Frequency\", fontsize= 15)\n",
    "    plt.ylabel(\"Word\", fontsize= 15)\n",
    "    plt.title(\"Word Frequency\", fontsize=25)\n",
    "    plt.xticks(fontsize= 15)\n",
    "    plt.yticks(fontsize= 15);"
   ]
  },
  {
   "cell_type": "code",
   "execution_count": 305,
   "metadata": {},
   "outputs": [
    {
     "data": {
      "image/png": "[encoded data removed]",
      "text/plain": [
       "<Figure size 648x648 with 1 Axes>"
      ]
     },
     "metadata": {
      "needs_background": "light"
     },
     "output_type": "display_data"
    }
   ],
   "source": [
    "# looking at the \"title\" feature\n",
    "top_words(df['title'], ngram = (1,2), stop_w = 'english')"
   ]
  },
  {
   "cell_type": "code",
   "execution_count": 307,
   "metadata": {},
   "outputs": [
    {
     "data": {
      "image/png": "[encoded data removed]",
      "text/plain": [
       "<Figure size 648x648 with 1 Axes>"
      ]
     },
     "metadata": {
      "needs_background": "light"
     },
     "output_type": "display_data"
    }
   ],
   "source": [
    "# Concatenating the \"title\" column with the \"selftext\" column\n",
    "top_words(df['title'] + \" \" + df['selftext'], ngram = (1,2), stop_w = 'english')"
   ]
  },
  {
   "cell_type": "markdown",
   "metadata": {},
   "source": [
    "# Models"
   ]
  },
  {
   "cell_type": "markdown",
   "metadata": {},
   "source": [
    "The models I chose are Logistic Regression, Multinomial Naive Bayes, and also checked a Decision Tree Classifier"
   ]
  },
  {
   "cell_type": "code",
   "execution_count": 404,
   "metadata": {},
   "outputs": [],
   "source": [
    "# I will use the concatenated column that includes both the text in the title column as well as the self text column\n",
    "X = df['title'] + \" \" + df['selftext']\n",
    "y = df['subreddit']\n",
    "# X = df['title'] was not used since it provided lower scores\n",
    "\n",
    "# Split into train/test \n",
    "X_train, X_test, y_train, y_test = train_test_split(X, y, random_state = 42)\n"
   ]
  },
  {
   "cell_type": "markdown",
   "metadata": {},
   "source": [
    "Logistic Regression"
   ]
  },
  {
   "cell_type": "code",
   "execution_count": 354,
   "metadata": {},
   "outputs": [],
   "source": [
    "def grid_search_reddit_lr(X_train, X_test, y_train, y_test, vectorizer = TfidfVectorizer(), ngram = [(1,1), (2,2), (1,2)],\n",
    "                       stop_w = ['english'], penalty = ['none', 'l2'], c = [0.2,0.5, 1,2,3], m_iter = [1000], max_d = [1.0], min_d = [1], max_f = [None], accents = [None]):\n",
    "    \n",
    "    # Define Pipeline - Remeber the step structure (list of tuple)\n",
    "    pipe = Pipeline(steps = [('vectorizer', vectorizer),\n",
    "                             ('model', LogisticRegression())\n",
    "                              ])\n",
    "\n",
    "    # Construct Grid Parameters\n",
    "    hyperparams = {'vectorizer__ngram_range': ngram,\n",
    "                   'vectorizer__stop_words': stop_w,\n",
    "                   'vectorizer__max_df': max_d,\n",
    "                   'vectorizer__min_df': min_d,\n",
    "                   'vectorizer__max_features': max_f,\n",
    "                   'vectorizer__strip_accents': accents,\n",
    "                   'model__penalty': penalty,\n",
    "                   'model__C': c,\n",
    "                   'model__max_iter': m_iter\n",
    "                  }\n",
    "\n",
    "    # Perform Grid Search\n",
    "    lr = GridSearchCV(pipe,\n",
    "                     param_grid = hyperparams,\n",
    "                     cv = 3,\n",
    "                     scoring = 'accuracy')\n",
    "\n",
    "    results = lr.fit(X_train, y_train)\n",
    "    \n",
    "    # Get score\n",
    "    train_score = results.best_score_\n",
    "    print('Best crossval score: {:.4f}'.format(train_score))\n",
    "    train_score = results.score(X_train, y_train)\n",
    "    print('Best TRAIN score: {:.4f}'.format(train_score))\n",
    "    test_score = results.score(X_test, y_test)\n",
    "    print('Best TEST score: {:.4f}'.format(test_score))\n",
    "    print(results.best_params_)\n",
    "\n",
    "    \n",
    "    return lr"
   ]
  },
  {
   "cell_type": "markdown",
   "metadata": {},
   "source": [
    "Multinomial Naive Bayes"
   ]
  },
  {
   "cell_type": "code",
   "execution_count": 429,
   "metadata": {},
   "outputs": [],
   "source": [
    "def grid_search_reddit_nb(X_train, X_test, y_train, y_test, vectorizer = TfidfVectorizer(), ngram = [(1,1), (2,2), (1,2)],\n",
    "                       stop_words = [None, 'english'], max_f = [None], min_d= [1], max_d=[.98, .99, .97, 1, 1.0]):\n",
    "    \n",
    "    # Define Pipeline - Remeber the step structure (list of tuple)\n",
    "    pipe = Pipeline(steps = [('vectorizer', vectorizer),\n",
    "                             ('model', MultinomialNB())\n",
    "                              ])\n",
    "\n",
    "    # Construct Grid Parameters\n",
    "    hyperparams = {'vectorizer__ngram_range': ngram,\n",
    "                   'vectorizer__stop_words': stop_words,\n",
    "                   'vectorizer__max_features': max_f,\n",
    "                   'vectorizer__min_df': min_d,\n",
    "                   'vectorizer__max_df': max_d\n",
    "                  }\n",
    "\n",
    "    # Perform Grid Search\n",
    "    nb = GridSearchCV(pipe,\n",
    "                     param_grid = hyperparams,\n",
    "                     cv = 3,\n",
    "                     scoring = 'accuracy')\n",
    "\n",
    "    results = nb.fit(X_train, y_train)\n",
    "                             \n",
    "    # Get score\n",
    "    train_score = results.best_score_\n",
    "    print('Best crossval score: {:.4f}'.format(train_score))\n",
    "    train_score = results.score(X_train, y_train)\n",
    "    print('Best TRAIN score: {:.4f}'.format(train_score))\n",
    "    test_score = results.score(X_test, y_test)\n",
    "    print('Best TEST score: {:.4f}'.format(test_score))\n",
    "    print(results.best_params_)\n",
    "    \n",
    "    return nb\n"
   ]
  },
  {
   "cell_type": "markdown",
   "metadata": {},
   "source": [
    "Decision Tree Classifier"
   ]
  },
  {
   "cell_type": "code",
   "execution_count": 54,
   "metadata": {},
   "outputs": [],
   "source": [
    "def grid_search_reddit_tree(X_train, X_test, y_train, y_test, vectorizer = TfidfVectorizer(), ngram = [(1,1), (2,2), (1,2)],\n",
    "                       stop_w = ['english'], penalty = ['none', 'l2'], C = [1, 3, 10, 1000], m_iter = [1000]):\n",
    "    \n",
    "    # Define Pipeline - Remeber the step structure (list of tuple)\n",
    "    pipe = Pipeline(steps = [('vectorizer', vectorizer),\n",
    "                             ('model', DecisionTreeClassifier())\n",
    "                              ])\n",
    "\n",
    "    # Construct Grid Parameters\n",
    "    hyperparams = {'vectorizer__ngram_range': ngram,\n",
    "                   'vectorizer__stop_words': stop_w, \n",
    "                  }\n",
    "\n",
    "    # Perform Grid Search\n",
    "    lr = GridSearchCV(pipe,\n",
    "                     param_grid = hyperparams,\n",
    "                     cv = 3,\n",
    "                     scoring = 'accuracy')\n",
    "\n",
    "    results = lr.fit(X_train, y_train)\n",
    "                             \n",
    "    # Get score\n",
    "    train_score = results.best_score_\n",
    "    print('Best crossval score: {:.4f}'.format(train_score))\n",
    "    train_score = results.score(X_train, y_train)\n",
    "    print('Best TRAIN score: {:.4f}'.format(train_score))\n",
    "    test_score = results.score(X_test, y_test)\n",
    "    print('Best TEST score: {:.4f}'.format(test_score))\n",
    "    print(results.best_params_)\n",
    "\n",
    "    \n",
    "    return lr"
   ]
  },
  {
   "cell_type": "markdown",
   "metadata": {},
   "source": [
    "# Results"
   ]
  },
  {
   "cell_type": "code",
   "execution_count": 398,
   "metadata": {},
   "outputs": [],
   "source": [
    "# created a list of words where I added different words to the 'english' stopwords to check performance\n",
    "list_of_words = ['removed',\n",
    "                 'a',\n",
    "           'about',\n",
    "           'above',\n",
    "           'across',\n",
    "           'after',\n",
    "           'afterwards',\n",
    "           'again',\n",
    "           'against',\n",
    "           'all',\n",
    "           'almost',\n",
    "           'alone',\n",
    "           'along',\n",
    "           'already',\n",
    "           'also',\n",
    "           'although',\n",
    "           'always',\n",
    "           'am',\n",
    "           'among',\n",
    "           'amongst',\n",
    "           'amoungst',\n",
    "           'amount',\n",
    "           'an',\n",
    "           'and',\n",
    "           'another',\n",
    "           'any',\n",
    "           'anyhow',\n",
    "           'anyone',\n",
    "           'anything',\n",
    "           'anyway',\n",
    "           'anywhere',\n",
    "           'are',\n",
    "           'around',\n",
    "           'as',\n",
    "           'at',\n",
    "           'back',\n",
    "           'be',\n",
    "           'became',\n",
    "           'because',\n",
    "           'become',\n",
    "           'becomes',\n",
    "           'becoming',\n",
    "           'been',\n",
    "           'before',\n",
    "           'beforehand',\n",
    "           'behind',\n",
    "           'being',\n",
    "           'below',\n",
    "           'beside',\n",
    "           'besides',\n",
    "           'between',\n",
    "           'beyond',\n",
    "           'bill',\n",
    "           'both',\n",
    "           'bottom',\n",
    "           'but',\n",
    "           'by',\n",
    "           'call',\n",
    "           'can',\n",
    "           'cannot',\n",
    "           'cant',\n",
    "           'co',\n",
    "           'con',\n",
    "           'could',\n",
    "           'couldnt',\n",
    "           'cry',\n",
    "           'de',\n",
    "           'describe',\n",
    "           'detail',\n",
    "           'do',\n",
    "           'done',\n",
    "           'down',\n",
    "           'due',\n",
    "           'during',\n",
    "           'each',\n",
    "           'eg',\n",
    "           'eight',\n",
    "           'either',\n",
    "           'eleven',\n",
    "           'else',\n",
    "           'elsewhere',\n",
    "           'empty',\n",
    "           'enough',\n",
    "           'etc',\n",
    "           'even',\n",
    "           'ever',\n",
    "           'every',\n",
    "           'everyone',\n",
    "           'everything',\n",
    "           'everywhere',\n",
    "           'except',\n",
    "           'few',\n",
    "           'fifteen',\n",
    "           'fifty',\n",
    "           'fill',\n",
    "           'find',\n",
    "           'fire',\n",
    "           'first',\n",
    "           'five',\n",
    "           'for',\n",
    "           'former',\n",
    "           'formerly',\n",
    "           'forty',\n",
    "           'found',\n",
    "           'four',\n",
    "           'from',\n",
    "           'front',\n",
    "           'full',\n",
    "           'further',\n",
    "           'get',\n",
    "           'give',\n",
    "           'go',\n",
    "           'had',\n",
    "           'has',\n",
    "           'hasnt',\n",
    "           'have',\n",
    "           'he',\n",
    "           'hence',\n",
    "           'her',\n",
    "           'here',\n",
    "           'hereafter',\n",
    "           'hereby',\n",
    "           'herein',\n",
    "           'hereupon',\n",
    "           'hers',\n",
    "           'herself',\n",
    "           'him',\n",
    "           'himself',\n",
    "           'his',\n",
    "           'how',\n",
    "           'however',\n",
    "           'hundred',\n",
    "           'i',\n",
    "           'ie',\n",
    "           'if',\n",
    "           'in',\n",
    "           'inc',\n",
    "           'indeed',\n",
    "           'interest',\n",
    "           'into',\n",
    "           'is',\n",
    "           'it',\n",
    "           'its',\n",
    "           'itself',\n",
    "           'keep',\n",
    "           'last',\n",
    "           'latter',\n",
    "           'latterly',\n",
    "           'least',\n",
    "           'less',\n",
    "           'ltd',\n",
    "           'made',\n",
    "           'many',\n",
    "           'may',\n",
    "           'me',\n",
    "           'meanwhile',\n",
    "           'might',\n",
    "           'mill',\n",
    "           'mine',\n",
    "           'more',\n",
    "           'moreover',\n",
    "           'most',\n",
    "           'mostly',\n",
    "           'move',\n",
    "           'much',\n",
    "           'must',\n",
    "           'my',\n",
    "           'myself',\n",
    "           'name',\n",
    "           'namely',\n",
    "           'neither',\n",
    "           'never',\n",
    "           'nevertheless',\n",
    "           'next',\n",
    "           'nine',\n",
    "           'no',\n",
    "           'nobody',\n",
    "           'none',\n",
    "           'noone',\n",
    "           'nor',\n",
    "           'not',\n",
    "           'nothing',\n",
    "           'now',\n",
    "           'nowhere',\n",
    "           'of',\n",
    "           'off',\n",
    "           'often',\n",
    "           'on',\n",
    "           'once',\n",
    "           'one',\n",
    "           'only',\n",
    "           'onto',\n",
    "           'or',\n",
    "           'other',\n",
    "           'others',\n",
    "           'otherwise',\n",
    "           'our',\n",
    "           'ours',\n",
    "           'ourselves',\n",
    "           'out',\n",
    "           'over',\n",
    "           'own',\n",
    "           'part',\n",
    "           'per',\n",
    "           'perhaps',\n",
    "           'please',\n",
    "           'put',\n",
    "           'rather',\n",
    "           're',\n",
    "           'same',\n",
    "           'see',\n",
    "           'seem',\n",
    "           'seemed',\n",
    "           'seeming',\n",
    "           'seems',\n",
    "           'serious',\n",
    "           'several',\n",
    "           'she',\n",
    "           'should',\n",
    "           'show',\n",
    "           'side',\n",
    "           'since',\n",
    "           'sincere',\n",
    "           'six',\n",
    "           'sixty',\n",
    "           'so',\n",
    "           'some',\n",
    "           'somehow',\n",
    "           'someone',\n",
    "           'something',\n",
    "           'sometime',\n",
    "           'sometimes',\n",
    "           'somewhere',\n",
    "           'still',\n",
    "           'such',\n",
    "           'system',\n",
    "           'take',\n",
    "           'ten',\n",
    "           'than',\n",
    "           'that',\n",
    "           'the',\n",
    "           'their',\n",
    "           'them',\n",
    "           'themselves',\n",
    "           'then',\n",
    "           'thence',\n",
    "           'there',\n",
    "           'thereafter',\n",
    "           'thereby',\n",
    "           'therefore',\n",
    "           'therein',\n",
    "           'thereupon',\n",
    "           'these',\n",
    "           'they',\n",
    "           'thick',\n",
    "           'thin',\n",
    "           'third',\n",
    "           'this',\n",
    "           'those',\n",
    "           'though',\n",
    "           'three',\n",
    "           'through',\n",
    "           'throughout',\n",
    "           'thru',\n",
    "           'thus',\n",
    "           'to',\n",
    "           'together',\n",
    "           'too',\n",
    "           'top',\n",
    "           'toward',\n",
    "           'towards',\n",
    "           'twelve',\n",
    "           'twenty',\n",
    "           'two',\n",
    "           'un',\n",
    "           'under',\n",
    "           'until',\n",
    "           'up',\n",
    "           'upon',\n",
    "           'us',\n",
    "           'very',\n",
    "           'via',\n",
    "           'was',\n",
    "           'we',\n",
    "           'well',\n",
    "           'were',\n",
    "           'what',\n",
    "           'whatever',\n",
    "           'when',\n",
    "           'whence',\n",
    "           'whenever',\n",
    "           'where',\n",
    "           'whereafter',\n",
    "           'whereas',\n",
    "           'whereby',\n",
    "           'wherein',\n",
    "           'whereupon',\n",
    "           'wherever',\n",
    "           'whether',\n",
    "           'which',\n",
    "           'while',\n",
    "           'whither',\n",
    "           'who',\n",
    "           'whoever',\n",
    "           'whole',\n",
    "           'whom',\n",
    "           'whose',\n",
    "           'why',\n",
    "           'will',\n",
    "           'with',\n",
    "           'within',\n",
    "           'without',\n",
    "           'would',\n",
    "           'yet',\n",
    "           'you',\n",
    "           'your',\n",
    "           'yours',\n",
    "           'yourself',\n",
    "           'yourselves',\n",
    "            'movies',\n",
    "            'movie',\n",
    "            'book',\n",
    "            'books']"
   ]
  },
  {
   "cell_type": "markdown",
   "metadata": {},
   "source": [
    "Results for logistic regression"
   ]
  },
  {
   "cell_type": "code",
   "execution_count": 433,
   "metadata": {
    "scrolled": true
   },
   "outputs": [
    {
     "name": "stdout",
     "output_type": "stream",
     "text": [
      "Best crossval score: 0.9351\n",
      "Best TRAIN score: 1.0000\n",
      "Best TEST score: 0.9453\n",
      "{'model__C': 10.0, 'model__max_iter': 1000, 'model__penalty': 'l2', 'vectorizer__max_df': 1.0, 'vectorizer__max_features': None, 'vectorizer__min_df': 1, 'vectorizer__ngram_range': (1, 2), 'vectorizer__stop_words': 'english', 'vectorizer__strip_accents': None}\n"
     ]
    }
   ],
   "source": [
    "# Best result\n",
    "lr = grid_search_reddit_lr(X_train, X_test, y_train, y_test, vectorizer = TfidfVectorizer(), penalty = ['l2'],\n",
    "                           max_f = [400, None], c = np.logspace(-3,3,7), stop_w = ['english'], ngram = [(1,1), (1,2)])"
   ]
  },
  {
   "cell_type": "code",
   "execution_count": null,
   "metadata": {},
   "outputs": [],
   "source": [
    "lr.fit(X_train, y_train)"
   ]
  },
  {
   "cell_type": "code",
   "execution_count": 1,
   "metadata": {},
   "outputs": [
    {
     "ename": "NameError",
     "evalue": "name 'lr' is not defined",
     "output_type": "error",
     "traceback": [
      "\u001b[0;31m---------------------------------------------------------------------------\u001b[0m",
      "\u001b[0;31mNameError\u001b[0m                                 Traceback (most recent call last)",
      "\u001b[0;32m<ipython-input-1-4fecb702b9d5>\u001b[0m in \u001b[0;36m<module>\u001b[0;34m\u001b[0m\n\u001b[0;32m----> 1\u001b[0;31m \u001b[0mlr\u001b[0m\u001b[0;34m.\u001b[0m\u001b[0mcoef_\u001b[0m\u001b[0;34m\u001b[0m\u001b[0;34m\u001b[0m\u001b[0m\n\u001b[0m",
      "\u001b[0;31mNameError\u001b[0m: name 'lr' is not defined"
     ]
    }
   ],
   "source": [
    "lr.best_estimator_[1].coef_"
   ]
  },
  {
   "cell_type": "code",
   "execution_count": 422,
   "metadata": {},
   "outputs": [
    {
     "name": "stdout",
     "output_type": "stream",
     "text": [
      "Best crossval score: 0.8891\n",
      "Best TRAIN score: 0.9110\n",
      "Best TEST score: 0.9037\n",
      "{'model__C': 0.01, 'model__max_iter': 1000, 'model__penalty': 'l2', 'vectorizer__max_df': 1.0, 'vectorizer__max_features': 400, 'vectorizer__min_df': 1, 'vectorizer__ngram_range': (1, 1), 'vectorizer__stop_words': 'english', 'vectorizer__strip_accents': None}\n"
     ]
    }
   ],
   "source": [
    "grid_search_reddit_lr(X_train, X_test, y_train, y_test, vectorizer = TfidfVectorizer(), penalty = ['l2'],\n",
    "                           max_f = [400], c = np.logspace(-3,3,7), stop_w = ['english'], ngram = [(1,1), (1,2)])"
   ]
  },
  {
   "cell_type": "code",
   "execution_count": 415,
   "metadata": {},
   "outputs": [
    {
     "name": "stdout",
     "output_type": "stream",
     "text": [
      "Best crossval score: 0.9066\n",
      "Best TRAIN score: 0.9752\n",
      "Best TEST score: 0.9234\n",
      "{'model__C': 0.01, 'model__max_iter': 1000, 'model__penalty': 'l2', 'vectorizer__max_df': 1.0, 'vectorizer__max_features': None, 'vectorizer__min_df': 1, 'vectorizer__ngram_range': (1, 1), 'vectorizer__stop_words': 'english', 'vectorizer__strip_accents': None}\n"
     ]
    }
   ],
   "source": [
    "grid_search_reddit_lr(X_train, X_test, y_train, y_test, vectorizer = TfidfVectorizer(), penalty = ['l2'],\n",
    "                           max_d = [0.5, 1.0], c = [.01])"
   ]
  },
  {
   "cell_type": "code",
   "execution_count": 407,
   "metadata": {},
   "outputs": [
    {
     "name": "stdout",
     "output_type": "stream",
     "text": [
      "Best crossval score: 0.8811\n",
      "Best TRAIN score: 0.9205\n",
      "Best TEST score: 0.9103\n",
      "{'model__C': 0.1, 'model__max_iter': 1000, 'model__penalty': 'l2', 'vectorizer__max_df': 1.0, 'vectorizer__max_features': 400, 'vectorizer__min_df': 1, 'vectorizer__ngram_range': (1, 2), 'vectorizer__stop_words': 'english', 'vectorizer__strip_accents': None}\n"
     ]
    }
   ],
   "source": [
    "grid_search_reddit_lr(X_train, X_test, y_train, y_test, vectorizer = CountVectorizer(), penalty = ['l2'],\n",
    "                           max_f = [400], c = [0.1], stop_w = ['english', list_of_words])"
   ]
  },
  {
   "cell_type": "markdown",
   "metadata": {},
   "source": [
    "Results for Multinomial Naive Bayes"
   ]
  },
  {
   "cell_type": "code",
   "execution_count": 430,
   "metadata": {},
   "outputs": [
    {
     "name": "stdout",
     "output_type": "stream",
     "text": [
      "Best crossval score: 0.9285\n",
      "Best TRAIN score: 0.9832\n",
      "Best TEST score: 0.9431\n",
      "{'vectorizer__max_df': 0.98, 'vectorizer__max_features': None, 'vectorizer__min_df': 1, 'vectorizer__ngram_range': (1, 1), 'vectorizer__stop_words': 'english'}\n"
     ]
    }
   ],
   "source": [
    "nb = grid_search_reddit_nb(X_train, X_test, y_train, y_test, vectorizer = CountVectorizer())"
   ]
  },
  {
   "cell_type": "code",
   "execution_count": 54,
   "metadata": {
    "scrolled": true
   },
   "outputs": [
    {
     "name": "stdout",
     "output_type": "stream",
     "text": [
      "Best crossval score: 0.8735\n",
      "Best TRAIN score: 0.9872\n",
      "Best TEST score: 0.8870\n",
      "{'vectorizer__ngram_range': (1, 2), 'vectorizer__stop_words': 'english'}\n"
     ]
    }
   ],
   "source": [
    "grid_search_reddit_nb(X_train2, X_test2, y_train2, y_test2, vectorizer = CountVectorizer(),\n",
    "                           ngram = [(1,1), (2,2), (1,2)], stop_words = ['english'])"
   ]
  },
  {
   "cell_type": "markdown",
   "metadata": {},
   "source": [
    "Results for Decision Tree"
   ]
  },
  {
   "cell_type": "code",
   "execution_count": 55,
   "metadata": {
    "scrolled": true
   },
   "outputs": [
    {
     "name": "stdout",
     "output_type": "stream",
     "text": [
      "Best crossval score: 0.8768\n",
      "Best TRAIN score: 1.0000\n",
      "Best TEST score: 0.8171\n",
      "{'vectorizer__ngram_range': (1, 2), 'vectorizer__stop_words': None}\n"
     ]
    }
   ],
   "source": [
    "dt = grid_search_reddit_tree(X_train, X_test, y_train, y_test, vectorizer = TfidfVectorizer(),\n",
    "                           ngram = [(1,1), (2,2), (1,2)], stop_w = [list_of_words, 'english', None], penalty = ['l2'],\n",
    "                           C = [0.25, 0.5, 1, 3])"
   ]
  },
  {
   "cell_type": "code",
   "execution_count": 436,
   "metadata": {},
   "outputs": [
    {
     "data": {
      "text/html": [
       "<div>\n",
       "<style scoped>\n",
       "    .dataframe tbody tr th:only-of-type {\n",
       "        vertical-align: middle;\n",
       "    }\n",
       "\n",
       "    .dataframe tbody tr th {\n",
       "        vertical-align: top;\n",
       "    }\n",
       "\n",
       "    .dataframe thead th {\n",
       "        text-align: right;\n",
       "    }\n",
       "</style>\n",
       "<table border=\"1\" class=\"dataframe\">\n",
       "  <thead>\n",
       "    <tr style=\"text-align: right;\">\n",
       "      <th></th>\n",
       "      <th>0</th>\n",
       "      <th>y</th>\n",
       "      <th>preds</th>\n",
       "      <th>correct</th>\n",
       "    </tr>\n",
       "  </thead>\n",
       "  <tbody>\n",
       "    <tr>\n",
       "      <th>1161</th>\n",
       "      <td>service [removed]</td>\n",
       "      <td>1</td>\n",
       "      <td>0</td>\n",
       "      <td>False</td>\n",
       "    </tr>\n",
       "    <tr>\n",
       "      <th>188</th>\n",
       "      <td>Una encuesta amigos :D es corta, es para [remo...</td>\n",
       "      <td>1</td>\n",
       "      <td>0</td>\n",
       "      <td>False</td>\n",
       "    </tr>\n",
       "    <tr>\n",
       "      <th>414</th>\n",
       "      <td>Prediction [removed]</td>\n",
       "      <td>1</td>\n",
       "      <td>0</td>\n",
       "      <td>False</td>\n",
       "    </tr>\n",
       "    <tr>\n",
       "      <th>1731</th>\n",
       "      <td>A quote that take all it sense in these times ...</td>\n",
       "      <td>1</td>\n",
       "      <td>0</td>\n",
       "      <td>False</td>\n",
       "    </tr>\n",
       "    <tr>\n",
       "      <th>1549</th>\n",
       "      <td>Who writes best combat/battle, etc scenes? [re...</td>\n",
       "      <td>1</td>\n",
       "      <td>0</td>\n",
       "      <td>False</td>\n",
       "    </tr>\n",
       "    <tr>\n",
       "      <th>1706</th>\n",
       "      <td>The Prince [removed]</td>\n",
       "      <td>1</td>\n",
       "      <td>0</td>\n",
       "      <td>False</td>\n",
       "    </tr>\n",
       "    <tr>\n",
       "      <th>869</th>\n",
       "      <td>Questions about Hearts and Hands by O. Henry [...</td>\n",
       "      <td>1</td>\n",
       "      <td>0</td>\n",
       "      <td>False</td>\n",
       "    </tr>\n",
       "    <tr>\n",
       "      <th>808</th>\n",
       "      <td>Collection of Stories Concerning Time [removed]</td>\n",
       "      <td>1</td>\n",
       "      <td>0</td>\n",
       "      <td>False</td>\n",
       "    </tr>\n",
       "    <tr>\n",
       "      <th>239</th>\n",
       "      <td>Just completed The Flowers for Algernon. Let's...</td>\n",
       "      <td>1</td>\n",
       "      <td>0</td>\n",
       "      <td>False</td>\n",
       "    </tr>\n",
       "    <tr>\n",
       "      <th>1255</th>\n",
       "      <td>State reports additional COVID-19 cases, bring...</td>\n",
       "      <td>1</td>\n",
       "      <td>0</td>\n",
       "      <td>False</td>\n",
       "    </tr>\n",
       "    <tr>\n",
       "      <th>514</th>\n",
       "      <td>Worship [removed]</td>\n",
       "      <td>1</td>\n",
       "      <td>0</td>\n",
       "      <td>False</td>\n",
       "    </tr>\n",
       "    <tr>\n",
       "      <th>1419</th>\n",
       "      <td>SOMEONE PLEASE HELP!!! [removed]</td>\n",
       "      <td>0</td>\n",
       "      <td>1</td>\n",
       "      <td>False</td>\n",
       "    </tr>\n",
       "    <tr>\n",
       "      <th>1793</th>\n",
       "      <td>What happened to The Last Thing He Wanted??? [...</td>\n",
       "      <td>0</td>\n",
       "      <td>1</td>\n",
       "      <td>False</td>\n",
       "    </tr>\n",
       "    <tr>\n",
       "      <th>755</th>\n",
       "      <td>I need help rn! [removed]</td>\n",
       "      <td>0</td>\n",
       "      <td>1</td>\n",
       "      <td>False</td>\n",
       "    </tr>\n",
       "    <tr>\n",
       "      <th>774</th>\n",
       "      <td>kickstater crowdfunding indegogo gofundme [rem...</td>\n",
       "      <td>1</td>\n",
       "      <td>0</td>\n",
       "      <td>False</td>\n",
       "    </tr>\n",
       "    <tr>\n",
       "      <th>1806</th>\n",
       "      <td>Who Is Earth Savior [removed]</td>\n",
       "      <td>1</td>\n",
       "      <td>0</td>\n",
       "      <td>False</td>\n",
       "    </tr>\n",
       "    <tr>\n",
       "      <th>32</th>\n",
       "      <td>What makes the fight club twist even work? [re...</td>\n",
       "      <td>0</td>\n",
       "      <td>1</td>\n",
       "      <td>False</td>\n",
       "    </tr>\n",
       "    <tr>\n",
       "      <th>1309</th>\n",
       "      <td>El Reino de Útopo [removed]\\n\\n[View Poll](htt...</td>\n",
       "      <td>1</td>\n",
       "      <td>0</td>\n",
       "      <td>False</td>\n",
       "    </tr>\n",
       "    <tr>\n",
       "      <th>1301</th>\n",
       "      <td>Friends to enemies [removed]</td>\n",
       "      <td>1</td>\n",
       "      <td>0</td>\n",
       "      <td>False</td>\n",
       "    </tr>\n",
       "    <tr>\n",
       "      <th>693</th>\n",
       "      <td>Need help finding a title [removed]</td>\n",
       "      <td>1</td>\n",
       "      <td>0</td>\n",
       "      <td>False</td>\n",
       "    </tr>\n",
       "    <tr>\n",
       "      <th>1138</th>\n",
       "      <td>\"The Babadook,\" A Creepypasta Theory; Slenderm...</td>\n",
       "      <td>0</td>\n",
       "      <td>1</td>\n",
       "      <td>False</td>\n",
       "    </tr>\n",
       "    <tr>\n",
       "      <th>637</th>\n",
       "      <td>kickstater crowdfunding indegogo gofundme [rem...</td>\n",
       "      <td>1</td>\n",
       "      <td>0</td>\n",
       "      <td>False</td>\n",
       "    </tr>\n",
       "    <tr>\n",
       "      <th>782</th>\n",
       "      <td>The opening of A Tale of Two Cities has never ...</td>\n",
       "      <td>1</td>\n",
       "      <td>0</td>\n",
       "      <td>False</td>\n",
       "    </tr>\n",
       "    <tr>\n",
       "      <th>921</th>\n",
       "      <td>Did Patrick (Casey Affleck) made the right dec...</td>\n",
       "      <td>0</td>\n",
       "      <td>1</td>\n",
       "      <td>False</td>\n",
       "    </tr>\n",
       "    <tr>\n",
       "      <th>198</th>\n",
       "      <td>Is this real? [removed]</td>\n",
       "      <td>1</td>\n",
       "      <td>0</td>\n",
       "      <td>False</td>\n",
       "    </tr>\n",
       "  </tbody>\n",
       "</table>\n",
       "</div>"
      ],
      "text/plain": [
       "                                                      0  y  preds  correct\n",
       "1161                                  service [removed]  1      0    False\n",
       "188   Una encuesta amigos :D es corta, es para [remo...  1      0    False\n",
       "414                                Prediction [removed]  1      0    False\n",
       "1731  A quote that take all it sense in these times ...  1      0    False\n",
       "1549  Who writes best combat/battle, etc scenes? [re...  1      0    False\n",
       "1706                               The Prince [removed]  1      0    False\n",
       "869   Questions about Hearts and Hands by O. Henry [...  1      0    False\n",
       "808     Collection of Stories Concerning Time [removed]  1      0    False\n",
       "239   Just completed The Flowers for Algernon. Let's...  1      0    False\n",
       "1255  State reports additional COVID-19 cases, bring...  1      0    False\n",
       "514                                   Worship [removed]  1      0    False\n",
       "1419                   SOMEONE PLEASE HELP!!! [removed]  0      1    False\n",
       "1793  What happened to The Last Thing He Wanted??? [...  0      1    False\n",
       "755                           I need help rn! [removed]  0      1    False\n",
       "774   kickstater crowdfunding indegogo gofundme [rem...  1      0    False\n",
       "1806                      Who Is Earth Savior [removed]  1      0    False\n",
       "32    What makes the fight club twist even work? [re...  0      1    False\n",
       "1309  El Reino de Útopo [removed]\\n\\n[View Poll](htt...  1      0    False\n",
       "1301                       Friends to enemies [removed]  1      0    False\n",
       "693                 Need help finding a title [removed]  1      0    False\n",
       "1138  \"The Babadook,\" A Creepypasta Theory; Slenderm...  0      1    False\n",
       "637   kickstater crowdfunding indegogo gofundme [rem...  1      0    False\n",
       "782   The opening of A Tale of Two Cities has never ...  1      0    False\n",
       "921   Did Patrick (Casey Affleck) made the right dec...  0      1    False\n",
       "198                             Is this real? [removed]  1      0    False"
      ]
     },
     "execution_count": 436,
     "metadata": {},
     "output_type": "execute_result"
    }
   ],
   "source": [
    "# Checking what documents were not predicted correctly in the best logistic regression\n",
    "lr_preds = lr.predict(X_test)\n",
    "check = pd.DataFrame(X_test)\n",
    "check['y'] = y_test\n",
    "check['preds'] = lr_preds\n",
    "check['correct'] = check['y'] == check['preds']\n",
    "check[check['correct'] == False]\n",
    "# books = 1 and movies = 0"
   ]
  },
  {
   "cell_type": "code",
   "execution_count": 437,
   "metadata": {},
   "outputs": [
    {
     "data": {
      "text/html": [
       "<div>\n",
       "<style scoped>\n",
       "    .dataframe tbody tr th:only-of-type {\n",
       "        vertical-align: middle;\n",
       "    }\n",
       "\n",
       "    .dataframe tbody tr th {\n",
       "        vertical-align: top;\n",
       "    }\n",
       "\n",
       "    .dataframe thead th {\n",
       "        text-align: right;\n",
       "    }\n",
       "</style>\n",
       "<table border=\"1\" class=\"dataframe\">\n",
       "  <thead>\n",
       "    <tr style=\"text-align: right;\">\n",
       "      <th></th>\n",
       "      <th>0</th>\n",
       "      <th>y</th>\n",
       "      <th>preds</th>\n",
       "      <th>correct</th>\n",
       "    </tr>\n",
       "  </thead>\n",
       "  <tbody>\n",
       "    <tr>\n",
       "      <th>1161</th>\n",
       "      <td>service [removed]</td>\n",
       "      <td>1</td>\n",
       "      <td>0</td>\n",
       "      <td>False</td>\n",
       "    </tr>\n",
       "    <tr>\n",
       "      <th>188</th>\n",
       "      <td>Una encuesta amigos :D es corta, es para [remo...</td>\n",
       "      <td>1</td>\n",
       "      <td>0</td>\n",
       "      <td>False</td>\n",
       "    </tr>\n",
       "    <tr>\n",
       "      <th>414</th>\n",
       "      <td>Prediction [removed]</td>\n",
       "      <td>1</td>\n",
       "      <td>0</td>\n",
       "      <td>False</td>\n",
       "    </tr>\n",
       "    <tr>\n",
       "      <th>1549</th>\n",
       "      <td>Who writes best combat/battle, etc scenes? [re...</td>\n",
       "      <td>1</td>\n",
       "      <td>0</td>\n",
       "      <td>False</td>\n",
       "    </tr>\n",
       "    <tr>\n",
       "      <th>1706</th>\n",
       "      <td>The Prince [removed]</td>\n",
       "      <td>1</td>\n",
       "      <td>0</td>\n",
       "      <td>False</td>\n",
       "    </tr>\n",
       "    <tr>\n",
       "      <th>869</th>\n",
       "      <td>Questions about Hearts and Hands by O. Henry [...</td>\n",
       "      <td>1</td>\n",
       "      <td>0</td>\n",
       "      <td>False</td>\n",
       "    </tr>\n",
       "    <tr>\n",
       "      <th>1428</th>\n",
       "      <td>Henry Miller: Tropic Series [removed]</td>\n",
       "      <td>1</td>\n",
       "      <td>0</td>\n",
       "      <td>False</td>\n",
       "    </tr>\n",
       "    <tr>\n",
       "      <th>1586</th>\n",
       "      <td>Halfway through The Arabian Nights.. [removed]</td>\n",
       "      <td>1</td>\n",
       "      <td>0</td>\n",
       "      <td>False</td>\n",
       "    </tr>\n",
       "    <tr>\n",
       "      <th>1073</th>\n",
       "      <td>Looking for movies on the Cold War I am on a C...</td>\n",
       "      <td>0</td>\n",
       "      <td>1</td>\n",
       "      <td>False</td>\n",
       "    </tr>\n",
       "    <tr>\n",
       "      <th>1303</th>\n",
       "      <td>I never understood Physics until now!! [removed]</td>\n",
       "      <td>1</td>\n",
       "      <td>0</td>\n",
       "      <td>False</td>\n",
       "    </tr>\n",
       "    <tr>\n",
       "      <th>239</th>\n",
       "      <td>Just completed The Flowers for Algernon. Let's...</td>\n",
       "      <td>1</td>\n",
       "      <td>0</td>\n",
       "      <td>False</td>\n",
       "    </tr>\n",
       "    <tr>\n",
       "      <th>1793</th>\n",
       "      <td>What happened to The Last Thing He Wanted??? [...</td>\n",
       "      <td>0</td>\n",
       "      <td>1</td>\n",
       "      <td>False</td>\n",
       "    </tr>\n",
       "    <tr>\n",
       "      <th>755</th>\n",
       "      <td>I need help rn! [removed]</td>\n",
       "      <td>0</td>\n",
       "      <td>1</td>\n",
       "      <td>False</td>\n",
       "    </tr>\n",
       "    <tr>\n",
       "      <th>774</th>\n",
       "      <td>kickstater crowdfunding indegogo gofundme [rem...</td>\n",
       "      <td>1</td>\n",
       "      <td>0</td>\n",
       "      <td>False</td>\n",
       "    </tr>\n",
       "    <tr>\n",
       "      <th>1160</th>\n",
       "      <td>Can we have a book challenge during Corona Vir...</td>\n",
       "      <td>1</td>\n",
       "      <td>0</td>\n",
       "      <td>False</td>\n",
       "    </tr>\n",
       "    <tr>\n",
       "      <th>1806</th>\n",
       "      <td>Who Is Earth Savior [removed]</td>\n",
       "      <td>1</td>\n",
       "      <td>0</td>\n",
       "      <td>False</td>\n",
       "    </tr>\n",
       "    <tr>\n",
       "      <th>1309</th>\n",
       "      <td>El Reino de Útopo [removed]\\n\\n[View Poll](htt...</td>\n",
       "      <td>1</td>\n",
       "      <td>0</td>\n",
       "      <td>False</td>\n",
       "    </tr>\n",
       "    <tr>\n",
       "      <th>1301</th>\n",
       "      <td>Friends to enemies [removed]</td>\n",
       "      <td>1</td>\n",
       "      <td>0</td>\n",
       "      <td>False</td>\n",
       "    </tr>\n",
       "    <tr>\n",
       "      <th>693</th>\n",
       "      <td>Need help finding a title [removed]</td>\n",
       "      <td>1</td>\n",
       "      <td>0</td>\n",
       "      <td>False</td>\n",
       "    </tr>\n",
       "    <tr>\n",
       "      <th>1138</th>\n",
       "      <td>\"The Babadook,\" A Creepypasta Theory; Slenderm...</td>\n",
       "      <td>0</td>\n",
       "      <td>1</td>\n",
       "      <td>False</td>\n",
       "    </tr>\n",
       "    <tr>\n",
       "      <th>543</th>\n",
       "      <td>Need help making an adaption en Don Quixote pa...</td>\n",
       "      <td>1</td>\n",
       "      <td>0</td>\n",
       "      <td>False</td>\n",
       "    </tr>\n",
       "    <tr>\n",
       "      <th>637</th>\n",
       "      <td>kickstater crowdfunding indegogo gofundme [rem...</td>\n",
       "      <td>1</td>\n",
       "      <td>0</td>\n",
       "      <td>False</td>\n",
       "    </tr>\n",
       "    <tr>\n",
       "      <th>244</th>\n",
       "      <td>The woman in the window [removed]</td>\n",
       "      <td>1</td>\n",
       "      <td>0</td>\n",
       "      <td>False</td>\n",
       "    </tr>\n",
       "    <tr>\n",
       "      <th>300</th>\n",
       "      <td>You ain't leading two things right now, Jack a...</td>\n",
       "      <td>0</td>\n",
       "      <td>1</td>\n",
       "      <td>False</td>\n",
       "    </tr>\n",
       "    <tr>\n",
       "      <th>782</th>\n",
       "      <td>The opening of A Tale of Two Cities has never ...</td>\n",
       "      <td>1</td>\n",
       "      <td>0</td>\n",
       "      <td>False</td>\n",
       "    </tr>\n",
       "    <tr>\n",
       "      <th>1304</th>\n",
       "      <td>Favorite blogs? [removed]</td>\n",
       "      <td>1</td>\n",
       "      <td>0</td>\n",
       "      <td>False</td>\n",
       "    </tr>\n",
       "  </tbody>\n",
       "</table>\n",
       "</div>"
      ],
      "text/plain": [
       "                                                      0  y  preds  correct\n",
       "1161                                  service [removed]  1      0    False\n",
       "188   Una encuesta amigos :D es corta, es para [remo...  1      0    False\n",
       "414                                Prediction [removed]  1      0    False\n",
       "1549  Who writes best combat/battle, etc scenes? [re...  1      0    False\n",
       "1706                               The Prince [removed]  1      0    False\n",
       "869   Questions about Hearts and Hands by O. Henry [...  1      0    False\n",
       "1428              Henry Miller: Tropic Series [removed]  1      0    False\n",
       "1586     Halfway through The Arabian Nights.. [removed]  1      0    False\n",
       "1073  Looking for movies on the Cold War I am on a C...  0      1    False\n",
       "1303   I never understood Physics until now!! [removed]  1      0    False\n",
       "239   Just completed The Flowers for Algernon. Let's...  1      0    False\n",
       "1793  What happened to The Last Thing He Wanted??? [...  0      1    False\n",
       "755                           I need help rn! [removed]  0      1    False\n",
       "774   kickstater crowdfunding indegogo gofundme [rem...  1      0    False\n",
       "1160  Can we have a book challenge during Corona Vir...  1      0    False\n",
       "1806                      Who Is Earth Savior [removed]  1      0    False\n",
       "1309  El Reino de Útopo [removed]\\n\\n[View Poll](htt...  1      0    False\n",
       "1301                       Friends to enemies [removed]  1      0    False\n",
       "693                 Need help finding a title [removed]  1      0    False\n",
       "1138  \"The Babadook,\" A Creepypasta Theory; Slenderm...  0      1    False\n",
       "543   Need help making an adaption en Don Quixote pa...  1      0    False\n",
       "637   kickstater crowdfunding indegogo gofundme [rem...  1      0    False\n",
       "244                   The woman in the window [removed]  1      0    False\n",
       "300   You ain't leading two things right now, Jack a...  0      1    False\n",
       "782   The opening of A Tale of Two Cities has never ...  1      0    False\n",
       "1304                          Favorite blogs? [removed]  1      0    False"
      ]
     },
     "execution_count": 437,
     "metadata": {},
     "output_type": "execute_result"
    }
   ],
   "source": [
    "# Checking what documents were not predicted correctly in the best Naive Bayes\n",
    "nb_preds = nb.predict(X_test)\n",
    "check = pd.DataFrame(X_test)\n",
    "check['y'] = y_test\n",
    "check['preds'] = nb_preds\n",
    "check['correct'] = check['y'] == check['preds']\n",
    "check[check['correct'] == False]\n",
    "# books = 1 and movies = 0"
   ]
  },
  {
   "cell_type": "markdown",
   "metadata": {},
   "source": [
    "# Conclusion"
   ]
  },
  {
   "cell_type": "markdown",
   "metadata": {},
   "source": [
    "The Logistic Regression model with 1000 max iterations, a C value of 10, ngram range of (1,2), and 'english' stop_words performed the best. Some errors came from phrases that had no clear division between movies and books, were in a different language, or did not even use the alphabet. Though this model provided the best results, it also shows high variance. Using other models also provided similar results.\n",
    "\n",
    "As next steps, I would work on reducing the variance without reducing the score. In addition, I would try other models and compare the results. One step I want to do is tokenizing and lemmatizing on my own. Finally, I would try the same project on a different data set. "
   ]
  }
 ],
 "metadata": {
  "kernelspec": {
   "display_name": "Python 3",
   "language": "python",
   "name": "python3"
  },
  "language_info": {
   "codemirror_mode": {
    "name": "ipython",
    "version": 3
   },
   "file_extension": ".py",
   "mimetype": "text/x-python",
   "name": "python",
   "nbconvert_exporter": "python",
   "pygments_lexer": "ipython3",
   "version": "3.7.6"
  }
 },
 "nbformat": 4,
 "nbformat_minor": 4
}
