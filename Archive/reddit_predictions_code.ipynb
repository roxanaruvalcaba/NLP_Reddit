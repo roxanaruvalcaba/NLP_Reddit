{
 "cells": [
  {
   "cell_type": "markdown",
   "metadata": {},
   "source": [
    "# Project 3: Web APIs & NLP"
   ]
  },
  {
   "cell_type": "markdown",
   "metadata": {},
   "source": [
    "## Problem Statement"
   ]
  },
  {
   "cell_type": "markdown",
   "metadata": {},
   "source": [
    "Many times, advertisers want to target their marketing to customers that will purchase their product. That is why, if someone is selling a book, they would be interested in showing a book ad to someone who is already talking about books. The data science problem answered in this project is whether or not subreddit titles and self text are predictive of the subreddit \"movies\" and \"books\" topics. To approach this problem, I leveraged the Pushshift API and NLP to train binary classifiers."
   ]
  },
  {
   "cell_type": "markdown",
   "metadata": {},
   "source": [
    "## Executive Summary"
   ]
  },
  {
   "cell_type": "markdown",
   "metadata": {},
   "source": [
    "Both the Logistic Regression and Multinomial Naive Bayes models provided good outputs. Though the model shows high variance, as can be seen from the higher train than test score, the model is able to predict whether a document is coming from a Movies subreddit or a Books subreddit with good accuracy. Limiting the number of features or adding regulation would reduce variance, but also decrease the accuracy of the model."
   ]
  },
  {
   "cell_type": "markdown",
   "metadata": {},
   "source": [
    "## Contents"
   ]
  },
  {
   "cell_type": "markdown",
   "metadata": {},
   "source": [
    "- [Data Gathering](#Data-Gathering)\n",
    "- [EDA](#EDA)\n",
    "- [Models](#Models)\n",
    "- [Results](#Results)\n",
    "- [Conclusion](#Conclusion)"
   ]
  },
  {
   "cell_type": "markdown",
   "metadata": {},
   "source": [
    "# Data Gathering"
   ]
  },
  {
   "cell_type": "markdown",
   "metadata": {},
   "source": [
    "Import libraries"
   ]
  },
  {
   "cell_type": "code",
   "execution_count": 1,
   "metadata": {},
   "outputs": [],
   "source": [
    "import pandas as pd\n",
    "import datetime as dt\n",
    "import time\n",
    "import requests\n",
    "import numpy as np\n",
    "from sklearn.model_selection import train_test_split, GridSearchCV\n",
    "from sklearn.pipeline import Pipeline\n",
    "from sklearn.linear_model import LogisticRegression\n",
    "from sklearn.feature_extraction.text import CountVectorizer, TfidfVectorizer, TfidfTransformer\n",
    "from sklearn.naive_bayes import GaussianNB, BernoulliNB, MultinomialNB\n",
    "import matplotlib.pyplot as plt\n",
    "from sklearn.tree import DecisionTreeClassifier"
   ]
  },
  {
   "cell_type": "markdown",
   "metadata": {},
   "source": [
    "Using Pushshift API, The pushshift.io Reddit API was designed to help provide enhanced functionality and search capabilities for searching Reddit comments and submissions"
   ]
  },
  {
   "cell_type": "code",
   "execution_count": 2,
   "metadata": {},
   "outputs": [],
   "source": [
    "# code from project 3 intro\n",
    "def query_pushshift(subreddit, kind = 'submission', day_window = 7, n = 5):\n",
    "    SUBFIELDS = ['title', 'selftext', 'subreddit', 'created_utc', 'author', 'num_comments', 'score', 'is_self']\n",
    "    \n",
    "    # BASE_URL & Parameters\n",
    "    BASE_URL = f\"https://api.pushshift.io/reddit/search/{kind}\" # also known as the \"API endpoint\" \n",
    "    size = 500\n",
    "      \n",
    "    # instantiate empty list for temp storage\n",
    "    posts = []\n",
    "    \n",
    "    # implement for loop with `time.sleep(2)`\n",
    "    for i in range(1, n + 1):\n",
    "        response = requests.get(BASE_URL,\n",
    "                                params = {\n",
    "                                    'subreddit': subreddit,\n",
    "                                    'size': size,\n",
    "                                    'after': f'{day_window*i}d'\n",
    "                                })\n",
    "        print(f'Getting data from subreddit {subreddit} after {day_window*i} days')\n",
    "        assert response.status_code == 200, 'Check url'\n",
    "        json = response.json()['data']\n",
    "        df = pd.DataFrame.from_dict(json)\n",
    "        posts.append(df)\n",
    "        time.sleep(2)\n",
    "    \n",
    "    # pd.concat storage list\n",
    "    full = pd.concat(posts, sort=False)\n",
    "    \n",
    "    # if submission\n",
    "    if kind == \"submission\":\n",
    "        # select desired columns\n",
    "        full = full[SUBFIELDS]\n",
    "        # drop duplicates\n",
    "        full.drop_duplicates(inplace = True)\n",
    "        # select `is_self` == True\n",
    "        full = full.loc[full['is_self'] == True]\n",
    "\n",
    "    # create `timestamp` column\n",
    "    full['timestamp'] = full[\"created_utc\"].map(dt.date.fromtimestamp)\n",
    "    \n",
    "    print(\"Query Complete!\")    \n",
    "    return full "
   ]
  },
  {
   "cell_type": "markdown",
   "metadata": {},
   "source": [
    "Getting results for movies and books"
   ]
  },
  {
   "cell_type": "code",
   "execution_count": 3,
   "metadata": {},
   "outputs": [
    {
     "name": "stdout",
     "output_type": "stream",
     "text": [
      "Getting data from subreddit movies after 7 days\n",
      "Getting data from subreddit movies after 14 days\n",
      "Getting data from subreddit movies after 21 days\n",
      "Getting data from subreddit movies after 28 days\n",
      "Getting data from subreddit movies after 35 days\n",
      "Query Complete!\n"
     ]
    }
   ],
   "source": [
    "results_movies = query_pushshift(\"movies\")"
   ]
  },
  {
   "cell_type": "code",
   "execution_count": 4,
   "metadata": {
    "scrolled": true
   },
   "outputs": [
    {
     "name": "stdout",
     "output_type": "stream",
     "text": [
      "Getting data from subreddit books after 7 days\n",
      "Getting data from subreddit books after 14 days\n",
      "Getting data from subreddit books after 21 days\n",
      "Getting data from subreddit books after 28 days\n",
      "Getting data from subreddit books after 35 days\n",
      "Query Complete!\n"
     ]
    }
   ],
   "source": [
    "results_books = query_pushshift(\"books\")"
   ]
  },
  {
   "cell_type": "markdown",
   "metadata": {},
   "source": [
    "# EDA"
   ]
  },
  {
   "cell_type": "markdown",
   "metadata": {},
   "source": [
    "Checking data shape, null values, graphing, and more!"
   ]
  },
  {
   "cell_type": "code",
   "execution_count": 5,
   "metadata": {},
   "outputs": [
    {
     "data": {
      "text/plain": [
       "(1093, 9)"
      ]
     },
     "execution_count": 5,
     "metadata": {},
     "output_type": "execute_result"
    }
   ],
   "source": [
    "# movie shape\n",
    "movies = results_movies.shape\n",
    "movies"
   ]
  },
  {
   "cell_type": "code",
   "execution_count": 6,
   "metadata": {},
   "outputs": [
    {
     "data": {
      "text/plain": [
       "(2027, 9)"
      ]
     },
     "execution_count": 6,
     "metadata": {},
     "output_type": "execute_result"
    }
   ],
   "source": [
    "# books shape\n",
    "books = results_books.shape\n",
    "books"
   ]
  },
  {
   "cell_type": "code",
   "execution_count": 7,
   "metadata": {},
   "outputs": [
    {
     "data": {
      "text/plain": [
       "0.04940530649588289"
      ]
     },
     "execution_count": 7,
     "metadata": {},
     "output_type": "execute_result"
    }
   ],
   "source": [
    "# null values in movies data\n",
    "results_movies['selftext'].isnull().sum()/movies[0]"
   ]
  },
  {
   "cell_type": "code",
   "execution_count": 8,
   "metadata": {},
   "outputs": [
    {
     "data": {
      "text/plain": [
       "0.06610754810064134"
      ]
     },
     "execution_count": 8,
     "metadata": {},
     "output_type": "execute_result"
    }
   ],
   "source": [
    "# null values in books data\n",
    "results_books['selftext'].isnull().sum()/books[0]"
   ]
  },
  {
   "cell_type": "code",
   "execution_count": 9,
   "metadata": {},
   "outputs": [],
   "source": [
    "# remove null values\n",
    "results_movies = results_movies[results_movies['selftext'].notnull()]\n",
    "results_books = results_books[results_books['selftext'].notnull()]"
   ]
  },
  {
   "cell_type": "code",
   "execution_count": 10,
   "metadata": {},
   "outputs": [
    {
     "data": {
      "text/plain": [
       "(1039, 9)"
      ]
     },
     "execution_count": 10,
     "metadata": {},
     "output_type": "execute_result"
    }
   ],
   "source": [
    "# new movie shape\n",
    "results_movies.shape"
   ]
  },
  {
   "cell_type": "code",
   "execution_count": 11,
   "metadata": {},
   "outputs": [
    {
     "data": {
      "text/plain": [
       "(1893, 9)"
      ]
     },
     "execution_count": 11,
     "metadata": {},
     "output_type": "execute_result"
    }
   ],
   "source": [
    "# new movie shape\n",
    "results_books.shape"
   ]
  },
  {
   "cell_type": "code",
   "execution_count": 12,
   "metadata": {
    "scrolled": true
   },
   "outputs": [
    {
     "data": {
      "image/png": "[encoded data removed]",
      "text/plain": [
       "<Figure size 432x288 with 1 Axes>"
      ]
     },
     "metadata": {
      "needs_background": "light"
     },
     "output_type": "display_data"
    }
   ],
   "source": [
    "# plot number of documents for each category\n",
    "plt.bar(['movies', 'books'], [movies[0], books[0]])\n",
    "plt.xlabel(\"Subreddits\", fontsize= 15)\n",
    "plt.ylabel(\"Documents\", fontsize= 15)\n",
    "plt.title(\"Data Gathered from Subreddits\", fontsize=15)\n",
    "plt.xticks(fontsize= 15)\n",
    "plt.yticks(fontsize= 15);"
   ]
  },
  {
   "cell_type": "code",
   "execution_count": 13,
   "metadata": {},
   "outputs": [
    {
     "data": {
      "text/plain": [
       "(1022, 9)"
      ]
     },
     "execution_count": 13,
     "metadata": {},
     "output_type": "execute_result"
    }
   ],
   "source": [
    "# scaling down data to have a balanced dataset\n",
    "results_books_scaled = results_books.copy().sample(frac = 0.54)\n",
    "results_books_scaled.shape"
   ]
  },
  {
   "cell_type": "code",
   "execution_count": 14,
   "metadata": {},
   "outputs": [],
   "source": [
    "# concatenating data from Movies and Books\n",
    "frames = [results_movies, results_books_scaled]\n",
    "df = pd.concat(frames)"
   ]
  },
  {
   "cell_type": "code",
   "execution_count": 15,
   "metadata": {},
   "outputs": [],
   "source": [
    "# reset index\n",
    "df.reset_index(drop = True, inplace = True) "
   ]
  },
  {
   "cell_type": "code",
   "execution_count": 16,
   "metadata": {},
   "outputs": [
    {
     "data": {
      "text/plain": [
       "movies    1039\n",
       "books     1022\n",
       "Name: subreddit, dtype: int64"
      ]
     },
     "execution_count": 16,
     "metadata": {},
     "output_type": "execute_result"
    }
   ],
   "source": [
    "# checking value counts\n",
    "df['subreddit'].value_counts()"
   ]
  },
  {
   "cell_type": "code",
   "execution_count": 17,
   "metadata": {},
   "outputs": [
    {
     "data": {
      "text/plain": [
       "movies    0.504124\n",
       "books     0.495876\n",
       "Name: subreddit, dtype: float64"
      ]
     },
     "execution_count": 17,
     "metadata": {},
     "output_type": "execute_result"
    }
   ],
   "source": [
    "# checking baseline model\n",
    "df['subreddit'].value_counts(normalize = True)"
   ]
  },
  {
   "cell_type": "code",
   "execution_count": 18,
   "metadata": {},
   "outputs": [],
   "source": [
    "# changing subreddit so that books = 1 and movies = 0\n",
    "df['subreddit'] = df['subreddit'].map({'books': 1, 'movies': 0})"
   ]
  },
  {
   "cell_type": "code",
   "execution_count": 19,
   "metadata": {
    "scrolled": true
   },
   "outputs": [
    {
     "data": {
      "text/plain": [
       "0    1039\n",
       "1    1022\n",
       "Name: subreddit, dtype: int64"
      ]
     },
     "execution_count": 19,
     "metadata": {},
     "output_type": "execute_result"
    }
   ],
   "source": [
    "# checking counts didn't change\n",
    "df['subreddit'].value_counts()"
   ]
  },
  {
   "cell_type": "code",
   "execution_count": 20,
   "metadata": {},
   "outputs": [
    {
     "data": {
      "text/html": [
       "<div>\n",
       "<style scoped>\n",
       "    .dataframe tbody tr th:only-of-type {\n",
       "        vertical-align: middle;\n",
       "    }\n",
       "\n",
       "    .dataframe tbody tr th {\n",
       "        vertical-align: top;\n",
       "    }\n",
       "\n",
       "    .dataframe thead th {\n",
       "        text-align: right;\n",
       "    }\n",
       "</style>\n",
       "<table border=\"1\" class=\"dataframe\">\n",
       "  <thead>\n",
       "    <tr style=\"text-align: right;\">\n",
       "      <th></th>\n",
       "      <th>title</th>\n",
       "      <th>selftext</th>\n",
       "      <th>subreddit</th>\n",
       "      <th>created_utc</th>\n",
       "      <th>author</th>\n",
       "      <th>num_comments</th>\n",
       "      <th>score</th>\n",
       "      <th>is_self</th>\n",
       "      <th>timestamp</th>\n",
       "    </tr>\n",
       "  </thead>\n",
       "  <tbody>\n",
       "    <tr>\n",
       "      <th>0</th>\n",
       "      <td>Are there any actual movies out there with *FR...</td>\n",
       "      <td>[removed]</td>\n",
       "      <td>0</td>\n",
       "      <td>1587655617</td>\n",
       "      <td>JackingOffAcc</td>\n",
       "      <td>1</td>\n",
       "      <td>1</td>\n",
       "      <td>True</td>\n",
       "      <td>2020-04-23</td>\n",
       "    </tr>\n",
       "    <tr>\n",
       "      <th>1</th>\n",
       "      <td>seek a sub pet to train with the urge and will...</td>\n",
       "      <td>[removed]</td>\n",
       "      <td>0</td>\n",
       "      <td>1587655823</td>\n",
       "      <td>lindabarr147</td>\n",
       "      <td>0</td>\n",
       "      <td>1</td>\n",
       "      <td>True</td>\n",
       "      <td>2020-04-23</td>\n",
       "    </tr>\n",
       "    <tr>\n",
       "      <th>2</th>\n",
       "      <td>Live Thread - Avengers: Endgame [SPOILERS]</td>\n",
       "      <td>[removed]</td>\n",
       "      <td>0</td>\n",
       "      <td>1587656073</td>\n",
       "      <td>AdrienSergent</td>\n",
       "      <td>0</td>\n",
       "      <td>1</td>\n",
       "      <td>True</td>\n",
       "      <td>2020-04-23</td>\n",
       "    </tr>\n",
       "    <tr>\n",
       "      <th>3</th>\n",
       "      <td>Are movie theaters *ever* coming back?</td>\n",
       "      <td>Please, somebody convince me that I'm stupid f...</td>\n",
       "      <td>0</td>\n",
       "      <td>1587656322</td>\n",
       "      <td>InspectorMendel</td>\n",
       "      <td>57</td>\n",
       "      <td>1</td>\n",
       "      <td>True</td>\n",
       "      <td>2020-04-23</td>\n",
       "    </tr>\n",
       "    <tr>\n",
       "      <th>4</th>\n",
       "      <td>Blue Movie App - Watch Unlimited Movies 100% Free</td>\n",
       "      <td>[removed]</td>\n",
       "      <td>0</td>\n",
       "      <td>1587656585</td>\n",
       "      <td>hasnainbajwa92</td>\n",
       "      <td>0</td>\n",
       "      <td>1</td>\n",
       "      <td>True</td>\n",
       "      <td>2020-04-23</td>\n",
       "    </tr>\n",
       "  </tbody>\n",
       "</table>\n",
       "</div>"
      ],
      "text/plain": [
       "                                               title  \\\n",
       "0  Are there any actual movies out there with *FR...   \n",
       "1  seek a sub pet to train with the urge and will...   \n",
       "2         Live Thread - Avengers: Endgame [SPOILERS]   \n",
       "3             Are movie theaters *ever* coming back?   \n",
       "4  Blue Movie App - Watch Unlimited Movies 100% Free   \n",
       "\n",
       "                                            selftext  subreddit  created_utc  \\\n",
       "0                                          [removed]          0   1587655617   \n",
       "1                                          [removed]          0   1587655823   \n",
       "2                                          [removed]          0   1587656073   \n",
       "3  Please, somebody convince me that I'm stupid f...          0   1587656322   \n",
       "4                                          [removed]          0   1587656585   \n",
       "\n",
       "            author  num_comments  score  is_self   timestamp  \n",
       "0    JackingOffAcc             1      1     True  2020-04-23  \n",
       "1     lindabarr147             0      1     True  2020-04-23  \n",
       "2    AdrienSergent             0      1     True  2020-04-23  \n",
       "3  InspectorMendel            57      1     True  2020-04-23  \n",
       "4   hasnainbajwa92             0      1     True  2020-04-23  "
      ]
     },
     "execution_count": 20,
     "metadata": {},
     "output_type": "execute_result"
    }
   ],
   "source": [
    "# displaying data, notice both title and selftext contain text\n",
    "df.head()"
   ]
  },
  {
   "cell_type": "code",
   "execution_count": 21,
   "metadata": {},
   "outputs": [],
   "source": [
    "# this function will help visualize the top words with highest frequency\n",
    "def top_words(corpus, ngram, stop_w):\n",
    "\n",
    "   # https://medium.com/@cristhianboujon/how-to-list-the-most-common-words-from-text-corpus-using-scikit-learn-dad4d0cab41d\n",
    "    vect = CountVectorizer (ngram_range = ngram , stop_words = stop_w)\n",
    "    vec = vect.fit(corpus)\n",
    "    bag_of_words = vec.transform(corpus)\n",
    "    sum_words = bag_of_words.sum(axis=0)\n",
    "    words_freq = [[word, sum_words[0, idx]] for word, idx in vec.vocabulary_.items()]\n",
    "    words_freq =sorted(words_freq, key = lambda x: x[1], reverse=True)\n",
    "    \n",
    "    words = [word for word, count in words_freq]\n",
    "    count = [count for word, count in words_freq]\n",
    "    \n",
    "    plt.figure(figsize=(9, 9))\n",
    "    plt.barh(words[:20], count[:20])\n",
    "    plt.xlabel(\"Frequency\", fontsize= 15)\n",
    "    plt.ylabel(\"Word\", fontsize= 15)\n",
    "    plt.title(\"Word Frequency\", fontsize=25)\n",
    "    plt.xticks(fontsize= 15)\n",
    "    plt.yticks(fontsize= 15);"
   ]
  },
  {
   "cell_type": "code",
   "execution_count": 22,
   "metadata": {},
   "outputs": [
    {
     "data": {
      "image/png": "[encoded data removed]",
      "text/plain": [
       "<Figure size 648x648 with 1 Axes>"
      ]
     },
     "metadata": {
      "needs_background": "light"
     },
     "output_type": "display_data"
    }
   ],
   "source": [
    "# looking at the \"title\" feature\n",
    "top_words(df['title'], ngram = (1,2), stop_w = 'english')"
   ]
  },
  {
   "cell_type": "code",
   "execution_count": 23,
   "metadata": {},
   "outputs": [
    {
     "data": {
      "image/png": "[encoded data removed]",
      "text/plain": [
       "<Figure size 648x648 with 1 Axes>"
      ]
     },
     "metadata": {
      "needs_background": "light"
     },
     "output_type": "display_data"
    }
   ],
   "source": [
    "# Concatenating the \"title\" column with the \"selftext\" column\n",
    "top_words(df['title'] + \" \" + df['selftext'], ngram = (1,2), stop_w = 'english')"
   ]
  },
  {
   "cell_type": "markdown",
   "metadata": {},
   "source": [
    "# Models"
   ]
  },
  {
   "cell_type": "markdown",
   "metadata": {},
   "source": [
    "The models I chose are Logistic Regression, Multinomial Naive Bayes, and also checked a Decision Tree Classifier"
   ]
  },
  {
   "cell_type": "code",
   "execution_count": 24,
   "metadata": {},
   "outputs": [],
   "source": [
    "# I will use the concatenated column that includes both the text in the title column as well as the self text column\n",
    "X = df['title'] + \" \" + df['selftext']\n",
    "y = df['subreddit']\n",
    "# X = df['title'] was not used since it provided lower scores\n",
    "\n",
    "# Split into train/test \n",
    "X_train, X_test, y_train, y_test = train_test_split(X, y, random_state = 42)\n"
   ]
  },
  {
   "cell_type": "code",
   "execution_count": 25,
   "metadata": {},
   "outputs": [
    {
     "data": {
      "text/plain": [
       "0.7496360989810772"
      ]
     },
     "execution_count": 25,
     "metadata": {},
     "output_type": "execute_result"
    }
   ],
   "source": [
    "X_train.shape[0]/X.shape[0]"
   ]
  },
  {
   "cell_type": "markdown",
   "metadata": {},
   "source": [
    "Logistic Regression"
   ]
  },
  {
   "cell_type": "code",
   "execution_count": 26,
   "metadata": {},
   "outputs": [],
   "source": [
    "def grid_search_reddit_lr(X_train, X_test, y_train, y_test, vectorizer = TfidfVectorizer(), ngram = [(1,1), (2,2), (1,2)],\n",
    "                       stop_w = ['english'], penalty = ['none', 'l2'], c = [0.2,0.5, 1,2,3], m_iter = [1000], max_d = [1.0], min_d = [1], max_f = [None], accents = [None]):\n",
    "    \n",
    "    # Define Pipeline - Remeber the step structure (list of tuple)\n",
    "    pipe = Pipeline(steps = [('vectorizer', vectorizer),\n",
    "                             ('model', LogisticRegression())\n",
    "                              ])\n",
    "\n",
    "    # Construct Grid Parameters\n",
    "    hyperparams = {'vectorizer__ngram_range': ngram,\n",
    "                   'vectorizer__stop_words': stop_w,\n",
    "                   'vectorizer__max_df': max_d,\n",
    "                   'vectorizer__min_df': min_d,\n",
    "                   'vectorizer__max_features': max_f,\n",
    "                   'vectorizer__strip_accents': accents,\n",
    "                   'model__penalty': penalty,\n",
    "                   'model__C': c,\n",
    "                   'model__max_iter': m_iter\n",
    "                  }\n",
    "\n",
    "    # Perform Grid Search\n",
    "    lr = GridSearchCV(pipe,\n",
    "                     param_grid = hyperparams,\n",
    "                     cv = 3,\n",
    "                     scoring = 'accuracy')\n",
    "\n",
    "    results = lr.fit(X_train, y_train)\n",
    "    \n",
    "    # Get score\n",
    "    train_score = results.best_score_\n",
    "    print('Best crossval score: {:.4f}'.format(train_score))\n",
    "    train_score = results.score(X_train, y_train)\n",
    "    print('Best TRAIN score: {:.4f}'.format(train_score))\n",
    "    test_score = results.score(X_test, y_test)\n",
    "    print('Best TEST score: {:.4f}'.format(test_score))\n",
    "    print(results.best_params_)\n",
    "\n",
    "    \n",
    "    return lr"
   ]
  },
  {
   "cell_type": "markdown",
   "metadata": {},
   "source": [
    "Multinomial Naive Bayes"
   ]
  },
  {
   "cell_type": "code",
   "execution_count": 27,
   "metadata": {},
   "outputs": [],
   "source": [
    "def grid_search_reddit_nb(X_train, X_test, y_train, y_test, vectorizer = TfidfVectorizer(), ngram = [(1,1), (2,2), (1,2)],\n",
    "                       stop_words = [None, 'english'], max_f = [None], min_d= [1], max_d=[.98, .99, .97, 1, 1.0]):\n",
    "    \n",
    "    # Define Pipeline - Remeber the step structure (list of tuple)\n",
    "    pipe = Pipeline(steps = [('vectorizer', vectorizer),\n",
    "                             ('model', MultinomialNB())\n",
    "                              ])\n",
    "\n",
    "    # Construct Grid Parameters\n",
    "    hyperparams = {'vectorizer__ngram_range': ngram,\n",
    "                   'vectorizer__stop_words': stop_words,\n",
    "                   'vectorizer__max_features': max_f,\n",
    "                   'vectorizer__min_df': min_d,\n",
    "                   'vectorizer__max_df': max_d\n",
    "                  }\n",
    "\n",
    "    # Perform Grid Search\n",
    "    nb = GridSearchCV(pipe,\n",
    "                     param_grid = hyperparams,\n",
    "                     cv = 3,\n",
    "                     scoring = 'accuracy')\n",
    "\n",
    "    results = nb.fit(X_train, y_train)\n",
    "                             \n",
    "    # Get score\n",
    "    train_score = results.best_score_\n",
    "    print('Best crossval score: {:.4f}'.format(train_score))\n",
    "    train_score = results.score(X_train, y_train)\n",
    "    print('Best TRAIN score: {:.4f}'.format(train_score))\n",
    "    test_score = results.score(X_test, y_test)\n",
    "    print('Best TEST score: {:.4f}'.format(test_score))\n",
    "    print(results.best_params_)\n",
    "    \n",
    "    return nb\n"
   ]
  },
  {
   "cell_type": "markdown",
   "metadata": {},
   "source": [
    "Decision Tree Classifier"
   ]
  },
  {
   "cell_type": "code",
   "execution_count": 28,
   "metadata": {},
   "outputs": [],
   "source": [
    "def grid_search_reddit_tree(X_train, X_test, y_train, y_test, vectorizer = TfidfVectorizer(), ngram = [(1,1), (2,2), (1,2)],\n",
    "                       stop_w = ['english'], penalty = ['none', 'l2'], C = [1, 3, 10, 1000], m_iter = [1000]):\n",
    "    \n",
    "    # Define Pipeline - Remeber the step structure (list of tuple)\n",
    "    pipe = Pipeline(steps = [('vectorizer', vectorizer),\n",
    "                             ('model', DecisionTreeClassifier())\n",
    "                              ])\n",
    "\n",
    "    # Construct Grid Parameters\n",
    "    hyperparams = {'vectorizer__ngram_range': ngram,\n",
    "                   'vectorizer__stop_words': stop_w, \n",
    "                  }\n",
    "\n",
    "    # Perform Grid Search\n",
    "    dt = GridSearchCV(pipe,\n",
    "                     param_grid = hyperparams,\n",
    "                     cv = 3,\n",
    "                     scoring = 'accuracy')\n",
    "\n",
    "    results = dt.fit(X_train, y_train)\n",
    "                             \n",
    "    # Get score\n",
    "    train_score = results.best_score_\n",
    "    print('Best crossval score: {:.4f}'.format(train_score))\n",
    "    train_score = results.score(X_train, y_train)\n",
    "    print('Best TRAIN score: {:.4f}'.format(train_score))\n",
    "    test_score = results.score(X_test, y_test)\n",
    "    print('Best TEST score: {:.4f}'.format(test_score))\n",
    "    print(results.best_params_)\n",
    "\n",
    "    \n",
    "    return dt"
   ]
  },
  {
   "cell_type": "markdown",
   "metadata": {},
   "source": [
    "# Results"
   ]
  },
  {
   "cell_type": "code",
   "execution_count": 29,
   "metadata": {},
   "outputs": [],
   "source": [
    "# created a list of words where I added different words to the 'english' stopwords to check performance\n",
    "list_of_words = ['removed',\n",
    "                 'a',\n",
    "           'about',\n",
    "           'above',\n",
    "           'across',\n",
    "           'after',\n",
    "           'afterwards',\n",
    "           'again',\n",
    "           'against',\n",
    "           'all',\n",
    "           'almost',\n",
    "           'alone',\n",
    "           'along',\n",
    "           'already',\n",
    "           'also',\n",
    "           'although',\n",
    "           'always',\n",
    "           'am',\n",
    "           'among',\n",
    "           'amongst',\n",
    "           'amoungst',\n",
    "           'amount',\n",
    "           'an',\n",
    "           'and',\n",
    "           'another',\n",
    "           'any',\n",
    "           'anyhow',\n",
    "           'anyone',\n",
    "           'anything',\n",
    "           'anyway',\n",
    "           'anywhere',\n",
    "           'are',\n",
    "           'around',\n",
    "           'as',\n",
    "           'at',\n",
    "           'back',\n",
    "           'be',\n",
    "           'became',\n",
    "           'because',\n",
    "           'become',\n",
    "           'becomes',\n",
    "           'becoming',\n",
    "           'been',\n",
    "           'before',\n",
    "           'beforehand',\n",
    "           'behind',\n",
    "           'being',\n",
    "           'below',\n",
    "           'beside',\n",
    "           'besides',\n",
    "           'between',\n",
    "           'beyond',\n",
    "           'bill',\n",
    "           'both',\n",
    "           'bottom',\n",
    "           'but',\n",
    "           'by',\n",
    "           'call',\n",
    "           'can',\n",
    "           'cannot',\n",
    "           'cant',\n",
    "           'co',\n",
    "           'con',\n",
    "           'could',\n",
    "           'couldnt',\n",
    "           'cry',\n",
    "           'de',\n",
    "           'describe',\n",
    "           'detail',\n",
    "           'do',\n",
    "           'done',\n",
    "           'down',\n",
    "           'due',\n",
    "           'during',\n",
    "           'each',\n",
    "           'eg',\n",
    "           'eight',\n",
    "           'either',\n",
    "           'eleven',\n",
    "           'else',\n",
    "           'elsewhere',\n",
    "           'empty',\n",
    "           'enough',\n",
    "           'etc',\n",
    "           'even',\n",
    "           'ever',\n",
    "           'every',\n",
    "           'everyone',\n",
    "           'everything',\n",
    "           'everywhere',\n",
    "           'except',\n",
    "           'few',\n",
    "           'fifteen',\n",
    "           'fifty',\n",
    "           'fill',\n",
    "           'find',\n",
    "           'fire',\n",
    "           'first',\n",
    "           'five',\n",
    "           'for',\n",
    "           'former',\n",
    "           'formerly',\n",
    "           'forty',\n",
    "           'found',\n",
    "           'four',\n",
    "           'from',\n",
    "           'front',\n",
    "           'full',\n",
    "           'further',\n",
    "           'get',\n",
    "           'give',\n",
    "           'go',\n",
    "           'had',\n",
    "           'has',\n",
    "           'hasnt',\n",
    "           'have',\n",
    "           'he',\n",
    "           'hence',\n",
    "           'her',\n",
    "           'here',\n",
    "           'hereafter',\n",
    "           'hereby',\n",
    "           'herein',\n",
    "           'hereupon',\n",
    "           'hers',\n",
    "           'herself',\n",
    "           'him',\n",
    "           'himself',\n",
    "           'his',\n",
    "           'how',\n",
    "           'however',\n",
    "           'hundred',\n",
    "           'i',\n",
    "           'ie',\n",
    "           'if',\n",
    "           'in',\n",
    "           'inc',\n",
    "           'indeed',\n",
    "           'interest',\n",
    "           'into',\n",
    "           'is',\n",
    "           'it',\n",
    "           'its',\n",
    "           'itself',\n",
    "           'keep',\n",
    "           'last',\n",
    "           'latter',\n",
    "           'latterly',\n",
    "           'least',\n",
    "           'less',\n",
    "           'ltd',\n",
    "           'made',\n",
    "           'many',\n",
    "           'may',\n",
    "           'me',\n",
    "           'meanwhile',\n",
    "           'might',\n",
    "           'mill',\n",
    "           'mine',\n",
    "           'more',\n",
    "           'moreover',\n",
    "           'most',\n",
    "           'mostly',\n",
    "           'move',\n",
    "           'much',\n",
    "           'must',\n",
    "           'my',\n",
    "           'myself',\n",
    "           'name',\n",
    "           'namely',\n",
    "           'neither',\n",
    "           'never',\n",
    "           'nevertheless',\n",
    "           'next',\n",
    "           'nine',\n",
    "           'no',\n",
    "           'nobody',\n",
    "           'none',\n",
    "           'noone',\n",
    "           'nor',\n",
    "           'not',\n",
    "           'nothing',\n",
    "           'now',\n",
    "           'nowhere',\n",
    "           'of',\n",
    "           'off',\n",
    "           'often',\n",
    "           'on',\n",
    "           'once',\n",
    "           'one',\n",
    "           'only',\n",
    "           'onto',\n",
    "           'or',\n",
    "           'other',\n",
    "           'others',\n",
    "           'otherwise',\n",
    "           'our',\n",
    "           'ours',\n",
    "           'ourselves',\n",
    "           'out',\n",
    "           'over',\n",
    "           'own',\n",
    "           'part',\n",
    "           'per',\n",
    "           'perhaps',\n",
    "           'please',\n",
    "           'put',\n",
    "           'rather',\n",
    "           're',\n",
    "           'same',\n",
    "           'see',\n",
    "           'seem',\n",
    "           'seemed',\n",
    "           'seeming',\n",
    "           'seems',\n",
    "           'serious',\n",
    "           'several',\n",
    "           'she',\n",
    "           'should',\n",
    "           'show',\n",
    "           'side',\n",
    "           'since',\n",
    "           'sincere',\n",
    "           'six',\n",
    "           'sixty',\n",
    "           'so',\n",
    "           'some',\n",
    "           'somehow',\n",
    "           'someone',\n",
    "           'something',\n",
    "           'sometime',\n",
    "           'sometimes',\n",
    "           'somewhere',\n",
    "           'still',\n",
    "           'such',\n",
    "           'system',\n",
    "           'take',\n",
    "           'ten',\n",
    "           'than',\n",
    "           'that',\n",
    "           'the',\n",
    "           'their',\n",
    "           'them',\n",
    "           'themselves',\n",
    "           'then',\n",
    "           'thence',\n",
    "           'there',\n",
    "           'thereafter',\n",
    "           'thereby',\n",
    "           'therefore',\n",
    "           'therein',\n",
    "           'thereupon',\n",
    "           'these',\n",
    "           'they',\n",
    "           'thick',\n",
    "           'thin',\n",
    "           'third',\n",
    "           'this',\n",
    "           'those',\n",
    "           'though',\n",
    "           'three',\n",
    "           'through',\n",
    "           'throughout',\n",
    "           'thru',\n",
    "           'thus',\n",
    "           'to',\n",
    "           'together',\n",
    "           'too',\n",
    "           'top',\n",
    "           'toward',\n",
    "           'towards',\n",
    "           'twelve',\n",
    "           'twenty',\n",
    "           'two',\n",
    "           'un',\n",
    "           'under',\n",
    "           'until',\n",
    "           'up',\n",
    "           'upon',\n",
    "           'us',\n",
    "           'very',\n",
    "           'via',\n",
    "           'was',\n",
    "           'we',\n",
    "           'well',\n",
    "           'were',\n",
    "           'what',\n",
    "           'whatever',\n",
    "           'when',\n",
    "           'whence',\n",
    "           'whenever',\n",
    "           'where',\n",
    "           'whereafter',\n",
    "           'whereas',\n",
    "           'whereby',\n",
    "           'wherein',\n",
    "           'whereupon',\n",
    "           'wherever',\n",
    "           'whether',\n",
    "           'which',\n",
    "           'while',\n",
    "           'whither',\n",
    "           'who',\n",
    "           'whoever',\n",
    "           'whole',\n",
    "           'whom',\n",
    "           'whose',\n",
    "           'why',\n",
    "           'will',\n",
    "           'with',\n",
    "           'within',\n",
    "           'without',\n",
    "           'would',\n",
    "           'yet',\n",
    "           'you',\n",
    "           'your',\n",
    "           'yours',\n",
    "           'yourself',\n",
    "           'yourselves',\n",
    "            'movies',\n",
    "            'movie',\n",
    "            'book',\n",
    "            'books']"
   ]
  },
  {
   "cell_type": "markdown",
   "metadata": {},
   "source": [
    "Results for logistic regression"
   ]
  },
  {
   "cell_type": "code",
   "execution_count": 30,
   "metadata": {
    "scrolled": false
   },
   "outputs": [
    {
     "name": "stdout",
     "output_type": "stream",
     "text": [
      "Best crossval score: 0.9269\n",
      "Best TRAIN score: 0.9981\n",
      "Best TEST score: 0.9419\n",
      "{'model__C': 10.0, 'model__max_iter': 1000, 'model__penalty': 'l2', 'vectorizer__max_df': 1.0, 'vectorizer__max_features': None, 'vectorizer__min_df': 1, 'vectorizer__ngram_range': (1, 2), 'vectorizer__stop_words': 'english', 'vectorizer__strip_accents': None}\n"
     ]
    }
   ],
   "source": [
    "# Best result\n",
    "lr = grid_search_reddit_lr(X_train, X_test, y_train, y_test, vectorizer = TfidfVectorizer(), penalty = ['l2'],\n",
    "                           max_f = [400, None], c = np.logspace(-3,3,7), stop_w = ['english'], ngram = [(1,1), (1,2)])"
   ]
  },
  {
   "cell_type": "code",
   "execution_count": 31,
   "metadata": {},
   "outputs": [
    {
     "data": {
      "text/html": [
       "<div>\n",
       "<style scoped>\n",
       "    .dataframe tbody tr th:only-of-type {\n",
       "        vertical-align: middle;\n",
       "    }\n",
       "\n",
       "    .dataframe tbody tr th {\n",
       "        vertical-align: top;\n",
       "    }\n",
       "\n",
       "    .dataframe thead th {\n",
       "        text-align: right;\n",
       "    }\n",
       "</style>\n",
       "<table border=\"1\" class=\"dataframe\">\n",
       "  <thead>\n",
       "    <tr style=\"text-align: right;\">\n",
       "      <th></th>\n",
       "      <th>labels</th>\n",
       "      <th>coef</th>\n",
       "    </tr>\n",
       "  </thead>\n",
       "  <tbody>\n",
       "    <tr>\n",
       "      <th>38284</th>\n",
       "      <td>movie</td>\n",
       "      <td>-14.533820</td>\n",
       "    </tr>\n",
       "    <tr>\n",
       "      <th>38707</th>\n",
       "      <td>movies</td>\n",
       "      <td>-10.670194</td>\n",
       "    </tr>\n",
       "    <tr>\n",
       "      <th>21718</th>\n",
       "      <td>film</td>\n",
       "      <td>-7.436465</td>\n",
       "    </tr>\n",
       "    <tr>\n",
       "      <th>61989</th>\n",
       "      <td>watch</td>\n",
       "      <td>-5.251839</td>\n",
       "    </tr>\n",
       "    <tr>\n",
       "      <th>62112</th>\n",
       "      <td>watched</td>\n",
       "      <td>-4.778528</td>\n",
       "    </tr>\n",
       "    <tr>\n",
       "      <th>...</th>\n",
       "      <td>...</td>\n",
       "      <td>...</td>\n",
       "    </tr>\n",
       "    <tr>\n",
       "      <th>40259</th>\n",
       "      <td>novel</td>\n",
       "      <td>3.609935</td>\n",
       "    </tr>\n",
       "    <tr>\n",
       "      <th>46463</th>\n",
       "      <td>reading</td>\n",
       "      <td>6.626696</td>\n",
       "    </tr>\n",
       "    <tr>\n",
       "      <th>46010</th>\n",
       "      <td>read</td>\n",
       "      <td>9.199643</td>\n",
       "    </tr>\n",
       "    <tr>\n",
       "      <th>8406</th>\n",
       "      <td>books</td>\n",
       "      <td>11.173192</td>\n",
       "    </tr>\n",
       "    <tr>\n",
       "      <th>7770</th>\n",
       "      <td>book</td>\n",
       "      <td>14.168132</td>\n",
       "    </tr>\n",
       "  </tbody>\n",
       "</table>\n",
       "<p>65711 rows × 2 columns</p>\n",
       "</div>"
      ],
      "text/plain": [
       "        labels       coef\n",
       "38284    movie -14.533820\n",
       "38707   movies -10.670194\n",
       "21718     film  -7.436465\n",
       "61989    watch  -5.251839\n",
       "62112  watched  -4.778528\n",
       "...        ...        ...\n",
       "40259    novel   3.609935\n",
       "46463  reading   6.626696\n",
       "46010     read   9.199643\n",
       "8406     books  11.173192\n",
       "7770      book  14.168132\n",
       "\n",
       "[65711 rows x 2 columns]"
      ]
     },
     "execution_count": 31,
     "metadata": {},
     "output_type": "execute_result"
    }
   ],
   "source": [
    "pd.DataFrame({'labels':lr.best_estimator_[0].get_feature_names(), 'coef':lr.best_estimator_[1].coef_[0]} ).sort_values('coef')"
   ]
  },
  {
   "cell_type": "code",
   "execution_count": 32,
   "metadata": {},
   "outputs": [],
   "source": [
    "preds = lr.predict(X_test)\n",
    "y_true = y_test"
   ]
  },
  {
   "cell_type": "code",
   "execution_count": 33,
   "metadata": {},
   "outputs": [],
   "source": [
    "from sklearn.metrics import confusion_matrix\n",
    "tn, fp, fn, tp = confusion_matrix(y_true, preds).ravel()"
   ]
  },
  {
   "cell_type": "code",
   "execution_count": 34,
   "metadata": {},
   "outputs": [
    {
     "data": {
      "text/plain": [
       "0.956"
      ]
     },
     "execution_count": 34,
     "metadata": {},
     "output_type": "execute_result"
    }
   ],
   "source": [
    "sensitivity = tp/(tp+fn)\n",
    "sensitivity"
   ]
  },
  {
   "cell_type": "code",
   "execution_count": 35,
   "metadata": {},
   "outputs": [
    {
     "data": {
      "text/plain": [
       "0.9285714285714286"
      ]
     },
     "execution_count": 35,
     "metadata": {},
     "output_type": "execute_result"
    }
   ],
   "source": [
    "specificity = tn/(tn+fp)\n",
    "specificity"
   ]
  },
  {
   "cell_type": "code",
   "execution_count": 36,
   "metadata": {},
   "outputs": [
    {
     "name": "stdout",
     "output_type": "stream",
     "text": [
      "247 19 11 239\n"
     ]
    }
   ],
   "source": [
    "print(tn, fp, fn, tp)"
   ]
  },
  {
   "cell_type": "code",
   "execution_count": 38,
   "metadata": {},
   "outputs": [
    {
     "name": "stdout",
     "output_type": "stream",
     "text": [
      "Best crossval score: 0.8945\n",
      "Best TRAIN score: 0.9133\n",
      "Best TEST score: 0.8895\n",
      "{'model__C': 0.1, 'model__max_iter': 1000, 'model__penalty': 'l2', 'vectorizer__max_df': 1.0, 'vectorizer__max_features': 400, 'vectorizer__min_df': 1, 'vectorizer__ngram_range': (1, 1), 'vectorizer__stop_words': 'english', 'vectorizer__strip_accents': None}\n"
     ]
    },
    {
     "data": {
      "text/plain": [
       "GridSearchCV(cv=3, error_score=nan,\n",
       "             estimator=Pipeline(memory=None,\n",
       "                                steps=[('vectorizer',\n",
       "                                        TfidfVectorizer(analyzer='word',\n",
       "                                                        binary=False,\n",
       "                                                        decode_error='strict',\n",
       "                                                        dtype=<class 'numpy.float64'>,\n",
       "                                                        encoding='utf-8',\n",
       "                                                        input='content',\n",
       "                                                        lowercase=True,\n",
       "                                                        max_df=1.0,\n",
       "                                                        max_features=None,\n",
       "                                                        min_df=1,\n",
       "                                                        ngram_range=(1, 1),\n",
       "                                                        norm='l2',\n",
       "                                                        preprocessor=None,\n",
       "                                                        smooth_idf=True,\n",
       "                                                        stop_words=None,\n",
       "                                                        stri...\n",
       "             param_grid={'model__C': array([1.e-03, 1.e-02, 1.e-01, 1.e+00, 1.e+01, 1.e+02, 1.e+03]),\n",
       "                         'model__max_iter': [1000], 'model__penalty': ['l2'],\n",
       "                         'vectorizer__max_df': [1.0],\n",
       "                         'vectorizer__max_features': [400],\n",
       "                         'vectorizer__min_df': [1],\n",
       "                         'vectorizer__ngram_range': [(1, 1), (1, 2)],\n",
       "                         'vectorizer__stop_words': ['english'],\n",
       "                         'vectorizer__strip_accents': [None]},\n",
       "             pre_dispatch='2*n_jobs', refit=True, return_train_score=False,\n",
       "             scoring='accuracy', verbose=0)"
      ]
     },
     "execution_count": 38,
     "metadata": {},
     "output_type": "execute_result"
    }
   ],
   "source": [
    "grid_search_reddit_lr(X_train, X_test, y_train, y_test, vectorizer = TfidfVectorizer(), penalty = ['l2'],\n",
    "                           max_f = [400], c = np.logspace(-3,3,7), stop_w = ['english'], ngram = [(1,1), (1,2)])"
   ]
  },
  {
   "cell_type": "code",
   "execution_count": 39,
   "metadata": {},
   "outputs": [
    {
     "name": "stdout",
     "output_type": "stream",
     "text": [
      "Best crossval score: 0.9210\n",
      "Best TRAIN score: 0.9851\n",
      "Best TEST score: 0.9264\n",
      "{'model__C': 0.01, 'model__max_iter': 1000, 'model__penalty': 'l2', 'vectorizer__max_df': 0.5, 'vectorizer__max_features': None, 'vectorizer__min_df': 1, 'vectorizer__ngram_range': (1, 2), 'vectorizer__stop_words': 'english', 'vectorizer__strip_accents': None}\n"
     ]
    },
    {
     "data": {
      "text/plain": [
       "GridSearchCV(cv=3, error_score=nan,\n",
       "             estimator=Pipeline(memory=None,\n",
       "                                steps=[('vectorizer',\n",
       "                                        TfidfVectorizer(analyzer='word',\n",
       "                                                        binary=False,\n",
       "                                                        decode_error='strict',\n",
       "                                                        dtype=<class 'numpy.float64'>,\n",
       "                                                        encoding='utf-8',\n",
       "                                                        input='content',\n",
       "                                                        lowercase=True,\n",
       "                                                        max_df=1.0,\n",
       "                                                        max_features=None,\n",
       "                                                        min_df=1,\n",
       "                                                        ngram_range=(1, 1),\n",
       "                                                        norm='l2',\n",
       "                                                        preprocessor=None,\n",
       "                                                        smooth_idf=True,\n",
       "                                                        stop_words=None,\n",
       "                                                        stri...\n",
       "             param_grid={'model__C': [0.01], 'model__max_iter': [1000],\n",
       "                         'model__penalty': ['l2'],\n",
       "                         'vectorizer__max_df': [0.5, 1.0],\n",
       "                         'vectorizer__max_features': [None],\n",
       "                         'vectorizer__min_df': [1],\n",
       "                         'vectorizer__ngram_range': [(1, 1), (2, 2), (1, 2)],\n",
       "                         'vectorizer__stop_words': ['english'],\n",
       "                         'vectorizer__strip_accents': [None]},\n",
       "             pre_dispatch='2*n_jobs', refit=True, return_train_score=False,\n",
       "             scoring='accuracy', verbose=0)"
      ]
     },
     "execution_count": 39,
     "metadata": {},
     "output_type": "execute_result"
    }
   ],
   "source": [
    "grid_search_reddit_lr(X_train, X_test, y_train, y_test, vectorizer = TfidfVectorizer(), penalty = ['l2'],\n",
    "                           max_d = [0.5, 1.0], c = [.01])"
   ]
  },
  {
   "cell_type": "code",
   "execution_count": 40,
   "metadata": {},
   "outputs": [
    {
     "name": "stdout",
     "output_type": "stream",
     "text": [
      "Best crossval score: 0.8861\n",
      "Best TRAIN score: 0.9081\n",
      "Best TEST score: 0.8682\n",
      "{'model__C': 0.1, 'model__max_iter': 1000, 'model__penalty': 'l2', 'vectorizer__max_df': 1.0, 'vectorizer__max_features': 400, 'vectorizer__min_df': 1, 'vectorizer__ngram_range': (1, 1), 'vectorizer__stop_words': 'english', 'vectorizer__strip_accents': None}\n"
     ]
    },
    {
     "data": {
      "text/plain": [
       "GridSearchCV(cv=3, error_score=nan,\n",
       "             estimator=Pipeline(memory=None,\n",
       "                                steps=[('vectorizer',\n",
       "                                        CountVectorizer(analyzer='word',\n",
       "                                                        binary=False,\n",
       "                                                        decode_error='strict',\n",
       "                                                        dtype=<class 'numpy.int64'>,\n",
       "                                                        encoding='utf-8',\n",
       "                                                        input='content',\n",
       "                                                        lowercase=True,\n",
       "                                                        max_df=1.0,\n",
       "                                                        max_features=None,\n",
       "                                                        min_df=1,\n",
       "                                                        ngram_range=(1, 1),\n",
       "                                                        preprocessor=None,\n",
       "                                                        stop_words=None,\n",
       "                                                        strip_accents=None,\n",
       "                                                        token_pattern...\n",
       "                                                     'above', 'across', 'after',\n",
       "                                                     'afterwards', 'again',\n",
       "                                                     'against', 'all', 'almost',\n",
       "                                                     'alone', 'along',\n",
       "                                                     'already', 'also',\n",
       "                                                     'although', 'always', 'am',\n",
       "                                                     'among', 'amongst',\n",
       "                                                     'amoungst', 'amount', 'an',\n",
       "                                                     'and', 'another', 'any',\n",
       "                                                     'anyhow', 'anyone',\n",
       "                                                     'anything', 'anyway', ...]],\n",
       "                         'vectorizer__strip_accents': [None]},\n",
       "             pre_dispatch='2*n_jobs', refit=True, return_train_score=False,\n",
       "             scoring='accuracy', verbose=0)"
      ]
     },
     "execution_count": 40,
     "metadata": {},
     "output_type": "execute_result"
    }
   ],
   "source": [
    "grid_search_reddit_lr(X_train, X_test, y_train, y_test, vectorizer = CountVectorizer(), penalty = ['l2'],\n",
    "                           max_f = [400], c = [0.1], stop_w = ['english', list_of_words])"
   ]
  },
  {
   "cell_type": "markdown",
   "metadata": {},
   "source": [
    "Results for Multinomial Naive Bayes"
   ]
  },
  {
   "cell_type": "code",
   "execution_count": 41,
   "metadata": {},
   "outputs": [
    {
     "name": "stdout",
     "output_type": "stream",
     "text": [
      "Best crossval score: 0.9223\n",
      "Best TRAIN score: 0.9922\n",
      "Best TEST score: 0.9322\n",
      "{'vectorizer__max_df': 0.98, 'vectorizer__max_features': None, 'vectorizer__min_df': 1, 'vectorizer__ngram_range': (1, 2), 'vectorizer__stop_words': None}\n"
     ]
    }
   ],
   "source": [
    "nb = grid_search_reddit_nb(X_train, X_test, y_train, y_test, vectorizer = CountVectorizer())"
   ]
  },
  {
   "cell_type": "markdown",
   "metadata": {},
   "source": [
    "Results for Decision Tree"
   ]
  },
  {
   "cell_type": "code",
   "execution_count": 43,
   "metadata": {
    "scrolled": true
   },
   "outputs": [
    {
     "name": "stdout",
     "output_type": "stream",
     "text": [
      "Best crossval score: 0.8822\n",
      "Best TRAIN score: 0.9994\n",
      "Best TEST score: 0.8585\n",
      "{'vectorizer__ngram_range': (1, 2), 'vectorizer__stop_words': None}\n"
     ]
    }
   ],
   "source": [
    "dt = grid_search_reddit_tree(X_train, X_test, y_train, y_test, vectorizer = TfidfVectorizer(),\n",
    "                           ngram = [(1,1), (2,2), (1,2)], stop_w = [list_of_words, 'english', None], penalty = ['l2'],\n",
    "                           C = [0.25, 0.5, 1, 3])"
   ]
  },
  {
   "cell_type": "code",
   "execution_count": 44,
   "metadata": {},
   "outputs": [
    {
     "data": {
      "text/html": [
       "<div>\n",
       "<style scoped>\n",
       "    .dataframe tbody tr th:only-of-type {\n",
       "        vertical-align: middle;\n",
       "    }\n",
       "\n",
       "    .dataframe tbody tr th {\n",
       "        vertical-align: top;\n",
       "    }\n",
       "\n",
       "    .dataframe thead th {\n",
       "        text-align: right;\n",
       "    }\n",
       "</style>\n",
       "<table border=\"1\" class=\"dataframe\">\n",
       "  <thead>\n",
       "    <tr style=\"text-align: right;\">\n",
       "      <th></th>\n",
       "      <th>0</th>\n",
       "      <th>y</th>\n",
       "      <th>preds</th>\n",
       "      <th>correct</th>\n",
       "    </tr>\n",
       "  </thead>\n",
       "  <tbody>\n",
       "    <tr>\n",
       "      <th>453</th>\n",
       "      <td>What are your thoughts on the hundred foot jou...</td>\n",
       "      <td>0</td>\n",
       "      <td>1</td>\n",
       "      <td>False</td>\n",
       "    </tr>\n",
       "    <tr>\n",
       "      <th>1453</th>\n",
       "      <td>Does anyone know where I can get the House of ...</td>\n",
       "      <td>1</td>\n",
       "      <td>0</td>\n",
       "      <td>False</td>\n",
       "    </tr>\n",
       "    <tr>\n",
       "      <th>342</th>\n",
       "      <td>WONDER WOMAN (2017) [deleted]</td>\n",
       "      <td>0</td>\n",
       "      <td>1</td>\n",
       "      <td>False</td>\n",
       "    </tr>\n",
       "    <tr>\n",
       "      <th>1278</th>\n",
       "      <td>FREEDOM [removed]\\n\\n[View Poll](https://www.r...</td>\n",
       "      <td>1</td>\n",
       "      <td>0</td>\n",
       "      <td>False</td>\n",
       "    </tr>\n",
       "    <tr>\n",
       "      <th>1671</th>\n",
       "      <td>Looking for writers interested in working on a...</td>\n",
       "      <td>1</td>\n",
       "      <td>0</td>\n",
       "      <td>False</td>\n",
       "    </tr>\n",
       "    <tr>\n",
       "      <th>1040</th>\n",
       "      <td>Friends to enemies [removed]</td>\n",
       "      <td>1</td>\n",
       "      <td>0</td>\n",
       "      <td>False</td>\n",
       "    </tr>\n",
       "    <tr>\n",
       "      <th>599</th>\n",
       "      <td>War of the worlds [removed]</td>\n",
       "      <td>0</td>\n",
       "      <td>1</td>\n",
       "      <td>False</td>\n",
       "    </tr>\n",
       "    <tr>\n",
       "      <th>952</th>\n",
       "      <td>Spirited away hidden messages [removed]</td>\n",
       "      <td>0</td>\n",
       "      <td>1</td>\n",
       "      <td>False</td>\n",
       "    </tr>\n",
       "    <tr>\n",
       "      <th>965</th>\n",
       "      <td>Will we run out of new programming? Once I get...</td>\n",
       "      <td>0</td>\n",
       "      <td>1</td>\n",
       "      <td>False</td>\n",
       "    </tr>\n",
       "    <tr>\n",
       "      <th>514</th>\n",
       "      <td>Patriots Day [removed]</td>\n",
       "      <td>0</td>\n",
       "      <td>1</td>\n",
       "      <td>False</td>\n",
       "    </tr>\n",
       "    <tr>\n",
       "      <th>432</th>\n",
       "      <td>Interstellar. [removed]</td>\n",
       "      <td>0</td>\n",
       "      <td>1</td>\n",
       "      <td>False</td>\n",
       "    </tr>\n",
       "    <tr>\n",
       "      <th>1871</th>\n",
       "      <td>The Man Who Lived Underground [removed]</td>\n",
       "      <td>1</td>\n",
       "      <td>0</td>\n",
       "      <td>False</td>\n",
       "    </tr>\n",
       "    <tr>\n",
       "      <th>1063</th>\n",
       "      <td>3 Steps To DOMINATE Affiliate Marketing: Make ...</td>\n",
       "      <td>1</td>\n",
       "      <td>0</td>\n",
       "      <td>False</td>\n",
       "    </tr>\n",
       "    <tr>\n",
       "      <th>121</th>\n",
       "      <td>Does a shirt require meaning to be good and en...</td>\n",
       "      <td>0</td>\n",
       "      <td>1</td>\n",
       "      <td>False</td>\n",
       "    </tr>\n",
       "    <tr>\n",
       "      <th>78</th>\n",
       "      <td>KATRINAS SPIRITUAL COUNSELING [removed]</td>\n",
       "      <td>0</td>\n",
       "      <td>1</td>\n",
       "      <td>False</td>\n",
       "    </tr>\n",
       "    <tr>\n",
       "      <th>618</th>\n",
       "      <td>Sucker punch it's an underrated gem, due to th...</td>\n",
       "      <td>0</td>\n",
       "      <td>1</td>\n",
       "      <td>False</td>\n",
       "    </tr>\n",
       "    <tr>\n",
       "      <th>555</th>\n",
       "      <td>Tough one need help [removed]</td>\n",
       "      <td>0</td>\n",
       "      <td>1</td>\n",
       "      <td>False</td>\n",
       "    </tr>\n",
       "    <tr>\n",
       "      <th>585</th>\n",
       "      <td>What happen this time? [removed]</td>\n",
       "      <td>0</td>\n",
       "      <td>1</td>\n",
       "      <td>False</td>\n",
       "    </tr>\n",
       "    <tr>\n",
       "      <th>414</th>\n",
       "      <td>ติดตั้งสัญยานกันโขมย เขต ลาดพร้าว รามอินทรา นว...</td>\n",
       "      <td>0</td>\n",
       "      <td>1</td>\n",
       "      <td>False</td>\n",
       "    </tr>\n",
       "    <tr>\n",
       "      <th>1290</th>\n",
       "      <td>Murakami or Kadare? [removed]\\n\\n[View Poll](h...</td>\n",
       "      <td>1</td>\n",
       "      <td>0</td>\n",
       "      <td>False</td>\n",
       "    </tr>\n",
       "    <tr>\n",
       "      <th>1525</th>\n",
       "      <td>Movie adaptations of And then there were none ...</td>\n",
       "      <td>1</td>\n",
       "      <td>0</td>\n",
       "      <td>False</td>\n",
       "    </tr>\n",
       "    <tr>\n",
       "      <th>240</th>\n",
       "      <td>Rakul preet Singh hot scenes [removed]</td>\n",
       "      <td>0</td>\n",
       "      <td>1</td>\n",
       "      <td>False</td>\n",
       "    </tr>\n",
       "    <tr>\n",
       "      <th>2050</th>\n",
       "      <td>Promotional: True Wealth Explained [removed]</td>\n",
       "      <td>1</td>\n",
       "      <td>0</td>\n",
       "      <td>False</td>\n",
       "    </tr>\n",
       "    <tr>\n",
       "      <th>1391</th>\n",
       "      <td>Digital Camera World - Spring 2020 [removed]</td>\n",
       "      <td>1</td>\n",
       "      <td>0</td>\n",
       "      <td>False</td>\n",
       "    </tr>\n",
       "    <tr>\n",
       "      <th>861</th>\n",
       "      <td>Long Fingered Lady [removed]</td>\n",
       "      <td>0</td>\n",
       "      <td>1</td>\n",
       "      <td>False</td>\n",
       "    </tr>\n",
       "    <tr>\n",
       "      <th>71</th>\n",
       "      <td>Hot tub time machine 3 [removed]</td>\n",
       "      <td>0</td>\n",
       "      <td>1</td>\n",
       "      <td>False</td>\n",
       "    </tr>\n",
       "    <tr>\n",
       "      <th>1718</th>\n",
       "      <td>Ebooks or Paperback? [removed]\\n\\n[View Poll](...</td>\n",
       "      <td>1</td>\n",
       "      <td>0</td>\n",
       "      <td>False</td>\n",
       "    </tr>\n",
       "    <tr>\n",
       "      <th>938</th>\n",
       "      <td>The Last Witch Hunter [removed]</td>\n",
       "      <td>0</td>\n",
       "      <td>1</td>\n",
       "      <td>False</td>\n",
       "    </tr>\n",
       "    <tr>\n",
       "      <th>426</th>\n",
       "      <td>I am very impressed by Twilight Zone s1 (1959)...</td>\n",
       "      <td>0</td>\n",
       "      <td>1</td>\n",
       "      <td>False</td>\n",
       "    </tr>\n",
       "    <tr>\n",
       "      <th>339</th>\n",
       "      <td>Rango [removed]</td>\n",
       "      <td>0</td>\n",
       "      <td>1</td>\n",
       "      <td>False</td>\n",
       "    </tr>\n",
       "  </tbody>\n",
       "</table>\n",
       "</div>"
      ],
      "text/plain": [
       "                                                      0  y  preds  correct\n",
       "453   What are your thoughts on the hundred foot jou...  0      1    False\n",
       "1453  Does anyone know where I can get the House of ...  1      0    False\n",
       "342                       WONDER WOMAN (2017) [deleted]  0      1    False\n",
       "1278  FREEDOM [removed]\\n\\n[View Poll](https://www.r...  1      0    False\n",
       "1671  Looking for writers interested in working on a...  1      0    False\n",
       "1040                       Friends to enemies [removed]  1      0    False\n",
       "599                         War of the worlds [removed]  0      1    False\n",
       "952             Spirited away hidden messages [removed]  0      1    False\n",
       "965   Will we run out of new programming? Once I get...  0      1    False\n",
       "514                              Patriots Day [removed]  0      1    False\n",
       "432                             Interstellar. [removed]  0      1    False\n",
       "1871            The Man Who Lived Underground [removed]  1      0    False\n",
       "1063  3 Steps To DOMINATE Affiliate Marketing: Make ...  1      0    False\n",
       "121   Does a shirt require meaning to be good and en...  0      1    False\n",
       "78              KATRINAS SPIRITUAL COUNSELING [removed]  0      1    False\n",
       "618   Sucker punch it's an underrated gem, due to th...  0      1    False\n",
       "555                       Tough one need help [removed]  0      1    False\n",
       "585                    What happen this time? [removed]  0      1    False\n",
       "414   ติดตั้งสัญยานกันโขมย เขต ลาดพร้าว รามอินทรา นว...  0      1    False\n",
       "1290  Murakami or Kadare? [removed]\\n\\n[View Poll](h...  1      0    False\n",
       "1525  Movie adaptations of And then there were none ...  1      0    False\n",
       "240              Rakul preet Singh hot scenes [removed]  0      1    False\n",
       "2050       Promotional: True Wealth Explained [removed]  1      0    False\n",
       "1391       Digital Camera World - Spring 2020 [removed]  1      0    False\n",
       "861                        Long Fingered Lady [removed]  0      1    False\n",
       "71                     Hot tub time machine 3 [removed]  0      1    False\n",
       "1718  Ebooks or Paperback? [removed]\\n\\n[View Poll](...  1      0    False\n",
       "938                     The Last Witch Hunter [removed]  0      1    False\n",
       "426   I am very impressed by Twilight Zone s1 (1959)...  0      1    False\n",
       "339                                     Rango [removed]  0      1    False"
      ]
     },
     "execution_count": 44,
     "metadata": {},
     "output_type": "execute_result"
    }
   ],
   "source": [
    "# Checking what documents were not predicted correctly in the best logistic regression\n",
    "lr_preds = lr.predict(X_test)\n",
    "check = pd.DataFrame(X_test)\n",
    "check['y'] = y_test\n",
    "check['preds'] = lr_preds\n",
    "check['correct'] = check['y'] == check['preds']\n",
    "check[check['correct'] == False]\n",
    "# books = 1 and movies = 0"
   ]
  },
  {
   "cell_type": "code",
   "execution_count": 45,
   "metadata": {},
   "outputs": [
    {
     "data": {
      "text/html": [
       "<div>\n",
       "<style scoped>\n",
       "    .dataframe tbody tr th:only-of-type {\n",
       "        vertical-align: middle;\n",
       "    }\n",
       "\n",
       "    .dataframe tbody tr th {\n",
       "        vertical-align: top;\n",
       "    }\n",
       "\n",
       "    .dataframe thead th {\n",
       "        text-align: right;\n",
       "    }\n",
       "</style>\n",
       "<table border=\"1\" class=\"dataframe\">\n",
       "  <thead>\n",
       "    <tr style=\"text-align: right;\">\n",
       "      <th></th>\n",
       "      <th>0</th>\n",
       "      <th>y</th>\n",
       "      <th>preds</th>\n",
       "      <th>correct</th>\n",
       "    </tr>\n",
       "  </thead>\n",
       "  <tbody>\n",
       "    <tr>\n",
       "      <th>591</th>\n",
       "      <td>Trading Places (1983) - Nitpicky Question Just...</td>\n",
       "      <td>0</td>\n",
       "      <td>1</td>\n",
       "      <td>False</td>\n",
       "    </tr>\n",
       "    <tr>\n",
       "      <th>453</th>\n",
       "      <td>What are your thoughts on the hundred foot jou...</td>\n",
       "      <td>0</td>\n",
       "      <td>1</td>\n",
       "      <td>False</td>\n",
       "    </tr>\n",
       "    <tr>\n",
       "      <th>1278</th>\n",
       "      <td>FREEDOM [removed]\\n\\n[View Poll](https://www.r...</td>\n",
       "      <td>1</td>\n",
       "      <td>0</td>\n",
       "      <td>False</td>\n",
       "    </tr>\n",
       "    <tr>\n",
       "      <th>1671</th>\n",
       "      <td>Looking for writers interested in working on a...</td>\n",
       "      <td>1</td>\n",
       "      <td>0</td>\n",
       "      <td>False</td>\n",
       "    </tr>\n",
       "    <tr>\n",
       "      <th>1433</th>\n",
       "      <td>AMA [removed]</td>\n",
       "      <td>1</td>\n",
       "      <td>0</td>\n",
       "      <td>False</td>\n",
       "    </tr>\n",
       "    <tr>\n",
       "      <th>306</th>\n",
       "      <td>Do you believe is good and bad taste ? [deleted]</td>\n",
       "      <td>0</td>\n",
       "      <td>1</td>\n",
       "      <td>False</td>\n",
       "    </tr>\n",
       "    <tr>\n",
       "      <th>1040</th>\n",
       "      <td>Friends to enemies [removed]</td>\n",
       "      <td>1</td>\n",
       "      <td>0</td>\n",
       "      <td>False</td>\n",
       "    </tr>\n",
       "    <tr>\n",
       "      <th>599</th>\n",
       "      <td>War of the worlds [removed]</td>\n",
       "      <td>0</td>\n",
       "      <td>1</td>\n",
       "      <td>False</td>\n",
       "    </tr>\n",
       "    <tr>\n",
       "      <th>297</th>\n",
       "      <td>I need help finding a way to stream hulu to my...</td>\n",
       "      <td>0</td>\n",
       "      <td>1</td>\n",
       "      <td>False</td>\n",
       "    </tr>\n",
       "    <tr>\n",
       "      <th>1743</th>\n",
       "      <td>kickstater crowdfunding indegogo gofundme [rem...</td>\n",
       "      <td>1</td>\n",
       "      <td>0</td>\n",
       "      <td>False</td>\n",
       "    </tr>\n",
       "    <tr>\n",
       "      <th>1204</th>\n",
       "      <td>Godel, Escher, Bach [removed]</td>\n",
       "      <td>1</td>\n",
       "      <td>0</td>\n",
       "      <td>False</td>\n",
       "    </tr>\n",
       "    <tr>\n",
       "      <th>514</th>\n",
       "      <td>Patriots Day [removed]</td>\n",
       "      <td>0</td>\n",
       "      <td>1</td>\n",
       "      <td>False</td>\n",
       "    </tr>\n",
       "    <tr>\n",
       "      <th>1287</th>\n",
       "      <td>Russ [removed]</td>\n",
       "      <td>1</td>\n",
       "      <td>0</td>\n",
       "      <td>False</td>\n",
       "    </tr>\n",
       "    <tr>\n",
       "      <th>1871</th>\n",
       "      <td>The Man Who Lived Underground [removed]</td>\n",
       "      <td>1</td>\n",
       "      <td>0</td>\n",
       "      <td>False</td>\n",
       "    </tr>\n",
       "    <tr>\n",
       "      <th>554</th>\n",
       "      <td>Americans of Reddit, does Tom hardy hardy nail...</td>\n",
       "      <td>0</td>\n",
       "      <td>1</td>\n",
       "      <td>False</td>\n",
       "    </tr>\n",
       "    <tr>\n",
       "      <th>1063</th>\n",
       "      <td>3 Steps To DOMINATE Affiliate Marketing: Make ...</td>\n",
       "      <td>1</td>\n",
       "      <td>0</td>\n",
       "      <td>False</td>\n",
       "    </tr>\n",
       "    <tr>\n",
       "      <th>1490</th>\n",
       "      <td>\"The Cure\" [removed]</td>\n",
       "      <td>1</td>\n",
       "      <td>0</td>\n",
       "      <td>False</td>\n",
       "    </tr>\n",
       "    <tr>\n",
       "      <th>121</th>\n",
       "      <td>Does a shirt require meaning to be good and en...</td>\n",
       "      <td>0</td>\n",
       "      <td>1</td>\n",
       "      <td>False</td>\n",
       "    </tr>\n",
       "    <tr>\n",
       "      <th>78</th>\n",
       "      <td>KATRINAS SPIRITUAL COUNSELING [removed]</td>\n",
       "      <td>0</td>\n",
       "      <td>1</td>\n",
       "      <td>False</td>\n",
       "    </tr>\n",
       "    <tr>\n",
       "      <th>581</th>\n",
       "      <td>The last year at marienbad [removed]</td>\n",
       "      <td>0</td>\n",
       "      <td>1</td>\n",
       "      <td>False</td>\n",
       "    </tr>\n",
       "    <tr>\n",
       "      <th>1131</th>\n",
       "      <td>Booooks [removed]</td>\n",
       "      <td>1</td>\n",
       "      <td>0</td>\n",
       "      <td>False</td>\n",
       "    </tr>\n",
       "    <tr>\n",
       "      <th>1628</th>\n",
       "      <td>I don’t get why people are so ignorant about c...</td>\n",
       "      <td>1</td>\n",
       "      <td>0</td>\n",
       "      <td>False</td>\n",
       "    </tr>\n",
       "    <tr>\n",
       "      <th>617</th>\n",
       "      <td>It's the time of year to appreciate The Prince...</td>\n",
       "      <td>0</td>\n",
       "      <td>1</td>\n",
       "      <td>False</td>\n",
       "    </tr>\n",
       "    <tr>\n",
       "      <th>889</th>\n",
       "      <td>What’s the greatest dialogue involving, about,...</td>\n",
       "      <td>0</td>\n",
       "      <td>1</td>\n",
       "      <td>False</td>\n",
       "    </tr>\n",
       "    <tr>\n",
       "      <th>679</th>\n",
       "      <td>An argument for the light-saber fight scene at...</td>\n",
       "      <td>0</td>\n",
       "      <td>1</td>\n",
       "      <td>False</td>\n",
       "    </tr>\n",
       "    <tr>\n",
       "      <th>39</th>\n",
       "      <td>Not seen a single Harry Potter film..Should i ...</td>\n",
       "      <td>0</td>\n",
       "      <td>1</td>\n",
       "      <td>False</td>\n",
       "    </tr>\n",
       "    <tr>\n",
       "      <th>1290</th>\n",
       "      <td>Murakami or Kadare? [removed]\\n\\n[View Poll](h...</td>\n",
       "      <td>1</td>\n",
       "      <td>0</td>\n",
       "      <td>False</td>\n",
       "    </tr>\n",
       "    <tr>\n",
       "      <th>1525</th>\n",
       "      <td>Movie adaptations of And then there were none ...</td>\n",
       "      <td>1</td>\n",
       "      <td>0</td>\n",
       "      <td>False</td>\n",
       "    </tr>\n",
       "    <tr>\n",
       "      <th>567</th>\n",
       "      <td>What is a good to mind-blowing Documentary/ Mo...</td>\n",
       "      <td>0</td>\n",
       "      <td>1</td>\n",
       "      <td>False</td>\n",
       "    </tr>\n",
       "    <tr>\n",
       "      <th>2050</th>\n",
       "      <td>Promotional: True Wealth Explained [removed]</td>\n",
       "      <td>1</td>\n",
       "      <td>0</td>\n",
       "      <td>False</td>\n",
       "    </tr>\n",
       "    <tr>\n",
       "      <th>1391</th>\n",
       "      <td>Digital Camera World - Spring 2020 [removed]</td>\n",
       "      <td>1</td>\n",
       "      <td>0</td>\n",
       "      <td>False</td>\n",
       "    </tr>\n",
       "    <tr>\n",
       "      <th>1718</th>\n",
       "      <td>Ebooks or Paperback? [removed]\\n\\n[View Poll](...</td>\n",
       "      <td>1</td>\n",
       "      <td>0</td>\n",
       "      <td>False</td>\n",
       "    </tr>\n",
       "    <tr>\n",
       "      <th>938</th>\n",
       "      <td>The Last Witch Hunter [removed]</td>\n",
       "      <td>0</td>\n",
       "      <td>1</td>\n",
       "      <td>False</td>\n",
       "    </tr>\n",
       "    <tr>\n",
       "      <th>426</th>\n",
       "      <td>I am very impressed by Twilight Zone s1 (1959)...</td>\n",
       "      <td>0</td>\n",
       "      <td>1</td>\n",
       "      <td>False</td>\n",
       "    </tr>\n",
       "    <tr>\n",
       "      <th>994</th>\n",
       "      <td>Outfits for Post-Apocalyptic Spaniards [removed]</td>\n",
       "      <td>0</td>\n",
       "      <td>1</td>\n",
       "      <td>False</td>\n",
       "    </tr>\n",
       "  </tbody>\n",
       "</table>\n",
       "</div>"
      ],
      "text/plain": [
       "                                                      0  y  preds  correct\n",
       "591   Trading Places (1983) - Nitpicky Question Just...  0      1    False\n",
       "453   What are your thoughts on the hundred foot jou...  0      1    False\n",
       "1278  FREEDOM [removed]\\n\\n[View Poll](https://www.r...  1      0    False\n",
       "1671  Looking for writers interested in working on a...  1      0    False\n",
       "1433                                      AMA [removed]  1      0    False\n",
       "306    Do you believe is good and bad taste ? [deleted]  0      1    False\n",
       "1040                       Friends to enemies [removed]  1      0    False\n",
       "599                         War of the worlds [removed]  0      1    False\n",
       "297   I need help finding a way to stream hulu to my...  0      1    False\n",
       "1743  kickstater crowdfunding indegogo gofundme [rem...  1      0    False\n",
       "1204                      Godel, Escher, Bach [removed]  1      0    False\n",
       "514                              Patriots Day [removed]  0      1    False\n",
       "1287                                     Russ [removed]  1      0    False\n",
       "1871            The Man Who Lived Underground [removed]  1      0    False\n",
       "554   Americans of Reddit, does Tom hardy hardy nail...  0      1    False\n",
       "1063  3 Steps To DOMINATE Affiliate Marketing: Make ...  1      0    False\n",
       "1490                               \"The Cure\" [removed]  1      0    False\n",
       "121   Does a shirt require meaning to be good and en...  0      1    False\n",
       "78              KATRINAS SPIRITUAL COUNSELING [removed]  0      1    False\n",
       "581                The last year at marienbad [removed]  0      1    False\n",
       "1131                                  Booooks [removed]  1      0    False\n",
       "1628  I don’t get why people are so ignorant about c...  1      0    False\n",
       "617   It's the time of year to appreciate The Prince...  0      1    False\n",
       "889   What’s the greatest dialogue involving, about,...  0      1    False\n",
       "679   An argument for the light-saber fight scene at...  0      1    False\n",
       "39    Not seen a single Harry Potter film..Should i ...  0      1    False\n",
       "1290  Murakami or Kadare? [removed]\\n\\n[View Poll](h...  1      0    False\n",
       "1525  Movie adaptations of And then there were none ...  1      0    False\n",
       "567   What is a good to mind-blowing Documentary/ Mo...  0      1    False\n",
       "2050       Promotional: True Wealth Explained [removed]  1      0    False\n",
       "1391       Digital Camera World - Spring 2020 [removed]  1      0    False\n",
       "1718  Ebooks or Paperback? [removed]\\n\\n[View Poll](...  1      0    False\n",
       "938                     The Last Witch Hunter [removed]  0      1    False\n",
       "426   I am very impressed by Twilight Zone s1 (1959)...  0      1    False\n",
       "994    Outfits for Post-Apocalyptic Spaniards [removed]  0      1    False"
      ]
     },
     "execution_count": 45,
     "metadata": {},
     "output_type": "execute_result"
    }
   ],
   "source": [
    "# Checking what documents were not predicted correctly in the best Naive Bayes\n",
    "nb_preds = nb.predict(X_test)\n",
    "check = pd.DataFrame(X_test)\n",
    "check['y'] = y_test\n",
    "check['preds'] = nb_preds\n",
    "check['correct'] = check['y'] == check['preds']\n",
    "check[check['correct'] == False]\n",
    "# books = 1 and movies = 0"
   ]
  },
  {
   "cell_type": "markdown",
   "metadata": {},
   "source": [
    "# Conclusion"
   ]
  },
  {
   "cell_type": "markdown",
   "metadata": {},
   "source": [
    "The Logistic Regression model with 1000 max iterations, a C value of 10, ngram range of (1,2), and 'english' stop_words performed the best. Some errors came from phrases that had no clear division between movies and books, were in a different language, or did not even use the alphabet. Though this model provided the best results, it also shows high variance. Using other models also provided similar results.\n",
    "\n",
    "As next steps, I would work on reducing the variance without reducing the score. In addition, I would try other models and compare the results. One step I want to do is tokenizing and lemmatizing on my own. Finally, I would try the same project on a different data set. "
   ]
  }
 ],
 "metadata": {
  "kernelspec": {
   "display_name": "Python 3",
   "language": "python",
   "name": "python3"
  },
  "language_info": {
   "codemirror_mode": {
    "name": "ipython",
    "version": 3
   },
   "file_extension": ".py",
   "mimetype": "text/x-python",
   "name": "python",
   "nbconvert_exporter": "python",
   "pygments_lexer": "ipython3",
   "version": "3.7.6"
  }
 },
 "nbformat": 4,
 "nbformat_minor": 4
}
